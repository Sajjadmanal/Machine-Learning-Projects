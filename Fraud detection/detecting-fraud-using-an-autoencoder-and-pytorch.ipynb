{
 "cells": [
  {
   "cell_type": "code",
   "execution_count": 3,
   "metadata": {
    "_cell_guid": "b1076dfc-b9ad-4769-8c92-a6c4dae69d19",
    "_uuid": "8f2839f25d086af736a60e9eeb907d3b93b6e0e5"
   },
   "outputs": [],
   "source": [
    "import os\n",
    "\n",
    "import pandas as pd\n",
    "import numpy as np\n",
    "import seaborn as sns\n",
    "import collections\n",
    "from tqdm import tqdm, tqdm_notebook\n",
    "\n",
    "# PyTorch Packages\n",
    "import torch.nn as nn\n",
    "from torch.autograd import Variable as V\n",
    "import torch.nn.functional as F\n",
    "import torch\n",
    "from torch.utils.data import DataLoader\n",
    "\n",
    "# SKLearn Packages\n",
    "from sklearn.preprocessing import StandardScaler\n",
    "from sklearn.model_selection import train_test_split\n",
    "from sklearn.metrics import roc_auc_score\n",
    "from sklearn.metrics import (confusion_matrix, precision_recall_curve, auc,\n",
    "                             roc_curve, recall_score, classification_report, f1_score)\n",
    "from sklearn.metrics import accuracy_score, precision_score\n",
    "\n",
    "# Plotting packages\n",
    "import matplotlib.pyplot as plt\n",
    "%matplotlib inline\n",
    "from bokeh.plotting import figure, output_notebook, show, ColumnDataSource\n",
    "from bokeh.models import HoverTool, NumeralTickFormatter\n",
    "from bokeh.palettes import Set3_12\n",
    "from bokeh.transform import jitter"
   ]
  },
  {
   "cell_type": "code",
   "execution_count": 4,
   "metadata": {
    "_cell_guid": "d0305f21-8673-408b-9998-79dd8b86daf3",
    "_uuid": "cd35b4b06b6dcbf48319f9b1d3690cdc8fb0c9de"
   },
   "outputs": [
    {
     "data": {
      "text/html": [
       "\n",
       "    <div class=\"bk-root\">\n",
       "        <a href=\"https://bokeh.pydata.org\" target=\"_blank\" class=\"bk-logo bk-logo-small bk-logo-notebook\"></a>\n",
       "        <span id=\"1001\">Loading BokehJS ...</span>\n",
       "    </div>"
      ]
     },
     "metadata": {},
     "output_type": "display_data"
    },
    {
     "data": {
      "application/javascript": [
       "\n",
       "(function(root) {\n",
       "  function now() {\n",
       "    return new Date();\n",
       "  }\n",
       "\n",
       "  var force = true;\n",
       "\n",
       "  if (typeof root._bokeh_onload_callbacks === \"undefined\" || force === true) {\n",
       "    root._bokeh_onload_callbacks = [];\n",
       "    root._bokeh_is_loading = undefined;\n",
       "  }\n",
       "\n",
       "  var JS_MIME_TYPE = 'application/javascript';\n",
       "  var HTML_MIME_TYPE = 'text/html';\n",
       "  var EXEC_MIME_TYPE = 'application/vnd.bokehjs_exec.v0+json';\n",
       "  var CLASS_NAME = 'output_bokeh rendered_html';\n",
       "\n",
       "  /**\n",
       "   * Render data to the DOM node\n",
       "   */\n",
       "  function render(props, node) {\n",
       "    var script = document.createElement(\"script\");\n",
       "    node.appendChild(script);\n",
       "  }\n",
       "\n",
       "  /**\n",
       "   * Handle when an output is cleared or removed\n",
       "   */\n",
       "  function handleClearOutput(event, handle) {\n",
       "    var cell = handle.cell;\n",
       "\n",
       "    var id = cell.output_area._bokeh_element_id;\n",
       "    var server_id = cell.output_area._bokeh_server_id;\n",
       "    // Clean up Bokeh references\n",
       "    if (id != null && id in Bokeh.index) {\n",
       "      Bokeh.index[id].model.document.clear();\n",
       "      delete Bokeh.index[id];\n",
       "    }\n",
       "\n",
       "    if (server_id !== undefined) {\n",
       "      // Clean up Bokeh references\n",
       "      var cmd = \"from bokeh.io.state import curstate; print(curstate().uuid_to_server['\" + server_id + \"'].get_sessions()[0].document.roots[0]._id)\";\n",
       "      cell.notebook.kernel.execute(cmd, {\n",
       "        iopub: {\n",
       "          output: function(msg) {\n",
       "            var id = msg.content.text.trim();\n",
       "            if (id in Bokeh.index) {\n",
       "              Bokeh.index[id].model.document.clear();\n",
       "              delete Bokeh.index[id];\n",
       "            }\n",
       "          }\n",
       "        }\n",
       "      });\n",
       "      // Destroy server and session\n",
       "      var cmd = \"import bokeh.io.notebook as ion; ion.destroy_server('\" + server_id + \"')\";\n",
       "      cell.notebook.kernel.execute(cmd);\n",
       "    }\n",
       "  }\n",
       "\n",
       "  /**\n",
       "   * Handle when a new output is added\n",
       "   */\n",
       "  function handleAddOutput(event, handle) {\n",
       "    var output_area = handle.output_area;\n",
       "    var output = handle.output;\n",
       "\n",
       "    // limit handleAddOutput to display_data with EXEC_MIME_TYPE content only\n",
       "    if ((output.output_type != \"display_data\") || (!output.data.hasOwnProperty(EXEC_MIME_TYPE))) {\n",
       "      return\n",
       "    }\n",
       "\n",
       "    var toinsert = output_area.element.find(\".\" + CLASS_NAME.split(' ')[0]);\n",
       "\n",
       "    if (output.metadata[EXEC_MIME_TYPE][\"id\"] !== undefined) {\n",
       "      toinsert[toinsert.length - 1].firstChild.textContent = output.data[JS_MIME_TYPE];\n",
       "      // store reference to embed id on output_area\n",
       "      output_area._bokeh_element_id = output.metadata[EXEC_MIME_TYPE][\"id\"];\n",
       "    }\n",
       "    if (output.metadata[EXEC_MIME_TYPE][\"server_id\"] !== undefined) {\n",
       "      var bk_div = document.createElement(\"div\");\n",
       "      bk_div.innerHTML = output.data[HTML_MIME_TYPE];\n",
       "      var script_attrs = bk_div.children[0].attributes;\n",
       "      for (var i = 0; i < script_attrs.length; i++) {\n",
       "        toinsert[toinsert.length - 1].firstChild.setAttribute(script_attrs[i].name, script_attrs[i].value);\n",
       "      }\n",
       "      // store reference to server id on output_area\n",
       "      output_area._bokeh_server_id = output.metadata[EXEC_MIME_TYPE][\"server_id\"];\n",
       "    }\n",
       "  }\n",
       "\n",
       "  function register_renderer(events, OutputArea) {\n",
       "\n",
       "    function append_mime(data, metadata, element) {\n",
       "      // create a DOM node to render to\n",
       "      var toinsert = this.create_output_subarea(\n",
       "        metadata,\n",
       "        CLASS_NAME,\n",
       "        EXEC_MIME_TYPE\n",
       "      );\n",
       "      this.keyboard_manager.register_events(toinsert);\n",
       "      // Render to node\n",
       "      var props = {data: data, metadata: metadata[EXEC_MIME_TYPE]};\n",
       "      render(props, toinsert[toinsert.length - 1]);\n",
       "      element.append(toinsert);\n",
       "      return toinsert\n",
       "    }\n",
       "\n",
       "    /* Handle when an output is cleared or removed */\n",
       "    events.on('clear_output.CodeCell', handleClearOutput);\n",
       "    events.on('delete.Cell', handleClearOutput);\n",
       "\n",
       "    /* Handle when a new output is added */\n",
       "    events.on('output_added.OutputArea', handleAddOutput);\n",
       "\n",
       "    /**\n",
       "     * Register the mime type and append_mime function with output_area\n",
       "     */\n",
       "    OutputArea.prototype.register_mime_type(EXEC_MIME_TYPE, append_mime, {\n",
       "      /* Is output safe? */\n",
       "      safe: true,\n",
       "      /* Index of renderer in `output_area.display_order` */\n",
       "      index: 0\n",
       "    });\n",
       "  }\n",
       "\n",
       "  // register the mime type if in Jupyter Notebook environment and previously unregistered\n",
       "  if (root.Jupyter !== undefined) {\n",
       "    var events = require('base/js/events');\n",
       "    var OutputArea = require('notebook/js/outputarea').OutputArea;\n",
       "\n",
       "    if (OutputArea.prototype.mime_types().indexOf(EXEC_MIME_TYPE) == -1) {\n",
       "      register_renderer(events, OutputArea);\n",
       "    }\n",
       "  }\n",
       "\n",
       "  \n",
       "  if (typeof (root._bokeh_timeout) === \"undefined\" || force === true) {\n",
       "    root._bokeh_timeout = Date.now() + 5000;\n",
       "    root._bokeh_failed_load = false;\n",
       "  }\n",
       "\n",
       "  var NB_LOAD_WARNING = {'data': {'text/html':\n",
       "     \"<div style='background-color: #fdd'>\\n\"+\n",
       "     \"<p>\\n\"+\n",
       "     \"BokehJS does not appear to have successfully loaded. If loading BokehJS from CDN, this \\n\"+\n",
       "     \"may be due to a slow or bad network connection. Possible fixes:\\n\"+\n",
       "     \"</p>\\n\"+\n",
       "     \"<ul>\\n\"+\n",
       "     \"<li>re-rerun `output_notebook()` to attempt to load from CDN again, or</li>\\n\"+\n",
       "     \"<li>use INLINE resources instead, as so:</li>\\n\"+\n",
       "     \"</ul>\\n\"+\n",
       "     \"<code>\\n\"+\n",
       "     \"from bokeh.resources import INLINE\\n\"+\n",
       "     \"output_notebook(resources=INLINE)\\n\"+\n",
       "     \"</code>\\n\"+\n",
       "     \"</div>\"}};\n",
       "\n",
       "  function display_loaded() {\n",
       "    var el = document.getElementById(\"1001\");\n",
       "    if (el != null) {\n",
       "      el.textContent = \"BokehJS is loading...\";\n",
       "    }\n",
       "    if (root.Bokeh !== undefined) {\n",
       "      if (el != null) {\n",
       "        el.textContent = \"BokehJS \" + root.Bokeh.version + \" successfully loaded.\";\n",
       "      }\n",
       "    } else if (Date.now() < root._bokeh_timeout) {\n",
       "      setTimeout(display_loaded, 100)\n",
       "    }\n",
       "  }\n",
       "\n",
       "\n",
       "  function run_callbacks() {\n",
       "    try {\n",
       "      root._bokeh_onload_callbacks.forEach(function(callback) {\n",
       "        if (callback != null)\n",
       "          callback();\n",
       "      });\n",
       "    } finally {\n",
       "      delete root._bokeh_onload_callbacks\n",
       "    }\n",
       "    console.debug(\"Bokeh: all callbacks have finished\");\n",
       "  }\n",
       "\n",
       "  function load_libs(css_urls, js_urls, callback) {\n",
       "    if (css_urls == null) css_urls = [];\n",
       "    if (js_urls == null) js_urls = [];\n",
       "\n",
       "    root._bokeh_onload_callbacks.push(callback);\n",
       "    if (root._bokeh_is_loading > 0) {\n",
       "      console.debug(\"Bokeh: BokehJS is being loaded, scheduling callback at\", now());\n",
       "      return null;\n",
       "    }\n",
       "    if (js_urls == null || js_urls.length === 0) {\n",
       "      run_callbacks();\n",
       "      return null;\n",
       "    }\n",
       "    console.debug(\"Bokeh: BokehJS not loaded, scheduling load and callback at\", now());\n",
       "    root._bokeh_is_loading = css_urls.length + js_urls.length;\n",
       "\n",
       "    function on_load() {\n",
       "      root._bokeh_is_loading--;\n",
       "      if (root._bokeh_is_loading === 0) {\n",
       "        console.debug(\"Bokeh: all BokehJS libraries/stylesheets loaded\");\n",
       "        run_callbacks()\n",
       "      }\n",
       "    }\n",
       "\n",
       "    function on_error() {\n",
       "      console.error(\"failed to load \" + url);\n",
       "    }\n",
       "\n",
       "    for (var i = 0; i < css_urls.length; i++) {\n",
       "      var url = css_urls[i];\n",
       "      const element = document.createElement(\"link\");\n",
       "      element.onload = on_load;\n",
       "      element.onerror = on_error;\n",
       "      element.rel = \"stylesheet\";\n",
       "      element.type = \"text/css\";\n",
       "      element.href = url;\n",
       "      console.debug(\"Bokeh: injecting link tag for BokehJS stylesheet: \", url);\n",
       "      document.body.appendChild(element);\n",
       "    }\n",
       "\n",
       "    for (var i = 0; i < js_urls.length; i++) {\n",
       "      var url = js_urls[i];\n",
       "      var element = document.createElement('script');\n",
       "      element.onload = on_load;\n",
       "      element.onerror = on_error;\n",
       "      element.async = false;\n",
       "      element.src = url;\n",
       "      console.debug(\"Bokeh: injecting script tag for BokehJS library: \", url);\n",
       "      document.head.appendChild(element);\n",
       "    }\n",
       "  };var element = document.getElementById(\"1001\");\n",
       "  if (element == null) {\n",
       "    console.error(\"Bokeh: ERROR: autoload.js configured with elementid '1001' but no matching script tag was found. \")\n",
       "    return false;\n",
       "  }\n",
       "\n",
       "  function inject_raw_css(css) {\n",
       "    const element = document.createElement(\"style\");\n",
       "    element.appendChild(document.createTextNode(css));\n",
       "    document.body.appendChild(element);\n",
       "  }\n",
       "\n",
       "  var js_urls = [\"https://cdn.pydata.org/bokeh/release/bokeh-1.3.0.min.js\", \"https://cdn.pydata.org/bokeh/release/bokeh-widgets-1.3.0.min.js\", \"https://cdn.pydata.org/bokeh/release/bokeh-tables-1.3.0.min.js\", \"https://cdn.pydata.org/bokeh/release/bokeh-gl-1.3.0.min.js\"];\n",
       "  var css_urls = [];\n",
       "\n",
       "  var inline_js = [\n",
       "    function(Bokeh) {\n",
       "      Bokeh.set_log_level(\"info\");\n",
       "    },\n",
       "    \n",
       "    function(Bokeh) {\n",
       "      \n",
       "    },\n",
       "    function(Bokeh) {} // ensure no trailing comma for IE\n",
       "  ];\n",
       "\n",
       "  function run_inline_js() {\n",
       "    \n",
       "    if ((root.Bokeh !== undefined) || (force === true)) {\n",
       "      for (var i = 0; i < inline_js.length; i++) {\n",
       "        inline_js[i].call(root, root.Bokeh);\n",
       "      }if (force === true) {\n",
       "        display_loaded();\n",
       "      }} else if (Date.now() < root._bokeh_timeout) {\n",
       "      setTimeout(run_inline_js, 100);\n",
       "    } else if (!root._bokeh_failed_load) {\n",
       "      console.log(\"Bokeh: BokehJS failed to load within specified timeout.\");\n",
       "      root._bokeh_failed_load = true;\n",
       "    } else if (force !== true) {\n",
       "      var cell = $(document.getElementById(\"1001\")).parents('.cell').data().cell;\n",
       "      cell.output_area.append_execute_result(NB_LOAD_WARNING)\n",
       "    }\n",
       "\n",
       "  }\n",
       "\n",
       "  if (root._bokeh_is_loading === 0) {\n",
       "    console.debug(\"Bokeh: BokehJS loaded, going straight to plotting\");\n",
       "    run_inline_js();\n",
       "  } else {\n",
       "    load_libs(css_urls, js_urls, function() {\n",
       "      console.debug(\"Bokeh: BokehJS plotting callback run at\", now());\n",
       "      run_inline_js();\n",
       "    });\n",
       "  }\n",
       "}(window));"
      ],
      "application/vnd.bokehjs_load.v0+json": "\n(function(root) {\n  function now() {\n    return new Date();\n  }\n\n  var force = true;\n\n  if (typeof root._bokeh_onload_callbacks === \"undefined\" || force === true) {\n    root._bokeh_onload_callbacks = [];\n    root._bokeh_is_loading = undefined;\n  }\n\n  \n\n  \n  if (typeof (root._bokeh_timeout) === \"undefined\" || force === true) {\n    root._bokeh_timeout = Date.now() + 5000;\n    root._bokeh_failed_load = false;\n  }\n\n  var NB_LOAD_WARNING = {'data': {'text/html':\n     \"<div style='background-color: #fdd'>\\n\"+\n     \"<p>\\n\"+\n     \"BokehJS does not appear to have successfully loaded. If loading BokehJS from CDN, this \\n\"+\n     \"may be due to a slow or bad network connection. Possible fixes:\\n\"+\n     \"</p>\\n\"+\n     \"<ul>\\n\"+\n     \"<li>re-rerun `output_notebook()` to attempt to load from CDN again, or</li>\\n\"+\n     \"<li>use INLINE resources instead, as so:</li>\\n\"+\n     \"</ul>\\n\"+\n     \"<code>\\n\"+\n     \"from bokeh.resources import INLINE\\n\"+\n     \"output_notebook(resources=INLINE)\\n\"+\n     \"</code>\\n\"+\n     \"</div>\"}};\n\n  function display_loaded() {\n    var el = document.getElementById(\"1001\");\n    if (el != null) {\n      el.textContent = \"BokehJS is loading...\";\n    }\n    if (root.Bokeh !== undefined) {\n      if (el != null) {\n        el.textContent = \"BokehJS \" + root.Bokeh.version + \" successfully loaded.\";\n      }\n    } else if (Date.now() < root._bokeh_timeout) {\n      setTimeout(display_loaded, 100)\n    }\n  }\n\n\n  function run_callbacks() {\n    try {\n      root._bokeh_onload_callbacks.forEach(function(callback) {\n        if (callback != null)\n          callback();\n      });\n    } finally {\n      delete root._bokeh_onload_callbacks\n    }\n    console.debug(\"Bokeh: all callbacks have finished\");\n  }\n\n  function load_libs(css_urls, js_urls, callback) {\n    if (css_urls == null) css_urls = [];\n    if (js_urls == null) js_urls = [];\n\n    root._bokeh_onload_callbacks.push(callback);\n    if (root._bokeh_is_loading > 0) {\n      console.debug(\"Bokeh: BokehJS is being loaded, scheduling callback at\", now());\n      return null;\n    }\n    if (js_urls == null || js_urls.length === 0) {\n      run_callbacks();\n      return null;\n    }\n    console.debug(\"Bokeh: BokehJS not loaded, scheduling load and callback at\", now());\n    root._bokeh_is_loading = css_urls.length + js_urls.length;\n\n    function on_load() {\n      root._bokeh_is_loading--;\n      if (root._bokeh_is_loading === 0) {\n        console.debug(\"Bokeh: all BokehJS libraries/stylesheets loaded\");\n        run_callbacks()\n      }\n    }\n\n    function on_error() {\n      console.error(\"failed to load \" + url);\n    }\n\n    for (var i = 0; i < css_urls.length; i++) {\n      var url = css_urls[i];\n      const element = document.createElement(\"link\");\n      element.onload = on_load;\n      element.onerror = on_error;\n      element.rel = \"stylesheet\";\n      element.type = \"text/css\";\n      element.href = url;\n      console.debug(\"Bokeh: injecting link tag for BokehJS stylesheet: \", url);\n      document.body.appendChild(element);\n    }\n\n    for (var i = 0; i < js_urls.length; i++) {\n      var url = js_urls[i];\n      var element = document.createElement('script');\n      element.onload = on_load;\n      element.onerror = on_error;\n      element.async = false;\n      element.src = url;\n      console.debug(\"Bokeh: injecting script tag for BokehJS library: \", url);\n      document.head.appendChild(element);\n    }\n  };var element = document.getElementById(\"1001\");\n  if (element == null) {\n    console.error(\"Bokeh: ERROR: autoload.js configured with elementid '1001' but no matching script tag was found. \")\n    return false;\n  }\n\n  function inject_raw_css(css) {\n    const element = document.createElement(\"style\");\n    element.appendChild(document.createTextNode(css));\n    document.body.appendChild(element);\n  }\n\n  var js_urls = [\"https://cdn.pydata.org/bokeh/release/bokeh-1.3.0.min.js\", \"https://cdn.pydata.org/bokeh/release/bokeh-widgets-1.3.0.min.js\", \"https://cdn.pydata.org/bokeh/release/bokeh-tables-1.3.0.min.js\", \"https://cdn.pydata.org/bokeh/release/bokeh-gl-1.3.0.min.js\"];\n  var css_urls = [];\n\n  var inline_js = [\n    function(Bokeh) {\n      Bokeh.set_log_level(\"info\");\n    },\n    \n    function(Bokeh) {\n      \n    },\n    function(Bokeh) {} // ensure no trailing comma for IE\n  ];\n\n  function run_inline_js() {\n    \n    if ((root.Bokeh !== undefined) || (force === true)) {\n      for (var i = 0; i < inline_js.length; i++) {\n        inline_js[i].call(root, root.Bokeh);\n      }if (force === true) {\n        display_loaded();\n      }} else if (Date.now() < root._bokeh_timeout) {\n      setTimeout(run_inline_js, 100);\n    } else if (!root._bokeh_failed_load) {\n      console.log(\"Bokeh: BokehJS failed to load within specified timeout.\");\n      root._bokeh_failed_load = true;\n    } else if (force !== true) {\n      var cell = $(document.getElementById(\"1001\")).parents('.cell').data().cell;\n      cell.output_area.append_execute_result(NB_LOAD_WARNING)\n    }\n\n  }\n\n  if (root._bokeh_is_loading === 0) {\n    console.debug(\"Bokeh: BokehJS loaded, going straight to plotting\");\n    run_inline_js();\n  } else {\n    load_libs(css_urls, js_urls, function() {\n      console.debug(\"Bokeh: BokehJS plotting callback run at\", now());\n      run_inline_js();\n    });\n  }\n}(window));"
     },
     "metadata": {},
     "output_type": "display_data"
    }
   ],
   "source": [
    "output_notebook()"
   ]
  },
  {
   "cell_type": "markdown",
   "metadata": {
    "_cell_guid": "47335c40-6fca-48d5-bbb5-5b6badcf9e87",
    "_uuid": "b8f8e9923f680345837093b525aa81bf0ce048fd"
   },
   "source": [
    "## Approach\n",
    "\n",
    "The general approach to this notebook is based on this awesome [post.](https://medium.com/@curiousily/credit-card-fraud-detection-using-autoencoders-in-keras-tensorflow-for-hackers-part-vii-20e0c85301bd) However, this implementation utilizes Pytorch as well as several modifications the architecture and input data.\n",
    "This notebook investigates using an autoencoder for anomaly and fraud detection. Autoencoders aren't new to machine learning, but they are not as prolific as some of the newer techniques in deep learning. An autoencoder's goal is to compress an input and then reconstruct the original input from the compressed data.\n",
    "![deep_autoencoder.png](https://deeplearning4j.org/img/deep_autoencoder.png)\n",
    "\n",
    "It is an unsupervised algorithm since the target variable is the input. There are many use cases and interesting applications of autoencoders which can be seen [here](https://towardsdatascience.com/autoencoders-bits-and-bytes-of-deep-learning-eaba376f23ad).\n",
    "\n",
    "\n",
    "In the case of detecting fraud, the approach is to build a model that will learn the characteristics of a normal transaction by training the model on non-fraudulent data points only. The idea is to get the model as accurate as possible at recreating normal transaction from the filtered data set. Once you have a model that can recreate normal transactions with a given amount of error, you then use the model to predict a set of data that has both normal and fraudulent transaction. If everything goes well, you will have a model that given a normal transaction will predict the original inputs with a small margin of error and a much larger error for transactions that are fraudulent."
   ]
  },
  {
   "cell_type": "code",
   "execution_count": 5,
   "metadata": {
    "_cell_guid": "83ea2a54-6bc0-48b1-9fb9-66d0dcb8ef7f",
    "_uuid": "a85b1c0a377cd3b6ab90dda3554f41b6446d3274"
   },
   "outputs": [],
   "source": [
    "df = pd.read_csv('./input/creditcard.csv')"
   ]
  },
  {
   "cell_type": "markdown",
   "metadata": {
    "_cell_guid": "817885de-d425-4410-9b66-0d84bf3f4726",
    "_uuid": "d4cfc47ab4597029dcdcd000d5c9c9e1bfdc028f"
   },
   "source": [
    "Since the *time* column comes in as seconds from the start of the 2 day period. I first normalized the time to a normal 24 hour clock as well as the time of every transaction and the amount to see if there is any pattern in the timing of fraudulent charges. For this notebook I will be using a mix of Bokeh and Seaborn for visualization."
   ]
  },
  {
   "cell_type": "code",
   "execution_count": 6,
   "metadata": {
    "_cell_guid": "93572498-2ef4-4f8b-8a36-e9ba9b98e6c6",
    "_uuid": "2c28c0fd983f95c2837b45cde9a0fd27e2e6bdd9"
   },
   "outputs": [],
   "source": [
    "df['TimeNorm'] = df['Time'].apply(lambda x: np.ceil(float(x)/3600) % 24.)"
   ]
  },
  {
   "cell_type": "code",
   "execution_count": 7,
   "metadata": {
    "_cell_guid": "da7ed2ae-04a1-4b32-b3ec-ed8bd3dbf63e",
    "_uuid": "58455a2c3a7859e70a69d6c675e6dd4e6a1384a7"
   },
   "outputs": [],
   "source": [
    "def format_plot(p, x_label, y_label):\n",
    "    p.grid.grid_line_color = None\n",
    "    p.background_fill_color = \"whitesmoke\"\n",
    "    p.axis.minor_tick_line_color = None\n",
    "    p.title.align = 'center'\n",
    "    p.title.text_font_size = \"18px\"\n",
    "    p.xaxis.axis_label = x_label\n",
    "    p.yaxis.axis_label = y_label\n",
    "    p.xaxis.axis_label_text_font_size = \"14px\"\n",
    "    p.yaxis.axis_label_text_font_size = \"14px\"\n",
    "    p.yaxis.axis_line_color = None\n",
    "    p.yaxis.major_tick_line_color = None\n",
    "    p.axis.major_label_text_font_size = \"12px\"\n",
    "    return p"
   ]
  },
  {
   "cell_type": "code",
   "execution_count": 8,
   "metadata": {
    "_cell_guid": "d97328b9-c1ca-492d-8e6b-6b4c241386e7",
    "_uuid": "5292fac84f85f66d6029f5e98836ba0e422f32c1"
   },
   "outputs": [
    {
     "data": {
      "text/html": [
       "\n",
       "\n",
       "\n",
       "\n",
       "\n",
       "\n",
       "  <div class=\"bk-root\" id=\"e389ac68-996f-4518-a79c-5ccce249063a\" data-root-id=\"1004\"></div>\n"
      ]
     },
     "metadata": {},
     "output_type": "display_data"
    },
    {
     "data": {
      "application/javascript": [
       "(function(root) {\n",
       "  function embed_document(root) {\n",
       "    \n",
       "  var docs_json = {\"3811d8f3-9c8e-4350-bd9b-3433a8fd2356\":{\"roots\":{\"references\":[{\"attributes\":{\"background_fill_color\":{\"value\":\"whitesmoke\"},\"below\":[{\"id\":\"1015\",\"type\":\"LinearAxis\"}],\"center\":[{\"id\":\"1019\",\"type\":\"Grid\"},{\"id\":\"1024\",\"type\":\"Grid\"}],\"left\":[{\"id\":\"1020\",\"type\":\"LinearAxis\"}],\"plot_width\":800,\"renderers\":[{\"id\":\"1042\",\"type\":\"GlyphRenderer\"},{\"id\":\"1048\",\"type\":\"GlyphRenderer\"}],\"title\":{\"id\":\"1005\",\"type\":\"Title\"},\"toolbar\":{\"id\":\"1031\",\"type\":\"Toolbar\"},\"toolbar_location\":null,\"x_range\":{\"id\":\"1007\",\"type\":\"DataRange1d\"},\"x_scale\":{\"id\":\"1011\",\"type\":\"LinearScale\"},\"y_range\":{\"id\":\"1009\",\"type\":\"DataRange1d\"},\"y_scale\":{\"id\":\"1013\",\"type\":\"LinearScale\"}},\"id\":\"1004\",\"subtype\":\"Figure\",\"type\":\"Plot\"},{\"attributes\":{\"fill_alpha\":{\"value\":0.7},\"fill_color\":{\"value\":\"#fb8072\"},\"line_color\":{\"value\":\"#fb8072\"},\"x\":{\"field\":\"x\",\"transform\":{\"id\":\"1044\",\"type\":\"Jitter\"}},\"y\":{\"field\":\"y\"}},\"id\":\"1046\",\"type\":\"Circle\"},{\"attributes\":{\"fill_alpha\":{\"value\":0.1},\"fill_color\":{\"value\":\"#80b1d3\"},\"line_color\":{\"value\":\"#80b1d3\"},\"x\":{\"field\":\"x\",\"transform\":{\"id\":\"1038\",\"type\":\"Jitter\"}},\"y\":{\"field\":\"y\"}},\"id\":\"1040\",\"type\":\"Circle\"},{\"attributes\":{\"range\":{\"id\":\"1007\",\"type\":\"DataRange1d\"},\"width\":0.9},\"id\":\"1038\",\"type\":\"Jitter\"},{\"attributes\":{\"callback\":null},\"id\":\"1009\",\"type\":\"DataRange1d\"},{\"attributes\":{\"data_source\":{\"id\":\"1002\",\"type\":\"ColumnDataSource\"},\"glyph\":{\"id\":\"1046\",\"type\":\"Circle\"},\"hover_glyph\":null,\"muted_glyph\":null,\"nonselection_glyph\":{\"id\":\"1047\",\"type\":\"Circle\"},\"selection_glyph\":null,\"view\":{\"id\":\"1049\",\"type\":\"CDSView\"}},\"id\":\"1048\",\"type\":\"GlyphRenderer\"},{\"attributes\":{},\"id\":\"1030\",\"type\":\"HelpTool\"},{\"attributes\":{\"axis_label\":\"Time\",\"axis_label_text_font_size\":{\"value\":\"14px\"},\"formatter\":{\"id\":\"1054\",\"type\":\"BasicTickFormatter\"},\"major_label_text_font_size\":{\"value\":\"12px\"},\"minor_tick_line_color\":{\"value\":null},\"ticker\":{\"id\":\"1016\",\"type\":\"BasicTicker\"}},\"id\":\"1015\",\"type\":\"LinearAxis\"},{\"attributes\":{\"align\":\"center\",\"text\":\"Transactions by Time and Amount\",\"text_font_size\":{\"value\":\"18px\"}},\"id\":\"1005\",\"type\":\"Title\"},{\"attributes\":{\"grid_line_color\":null,\"ticker\":{\"id\":\"1016\",\"type\":\"BasicTicker\"}},\"id\":\"1019\",\"type\":\"Grid\"},{\"attributes\":{\"overlay\":{\"id\":\"1056\",\"type\":\"BoxAnnotation\"}},\"id\":\"1027\",\"type\":\"BoxZoomTool\"},{\"attributes\":{},\"id\":\"1016\",\"type\":\"BasicTicker\"},{\"attributes\":{\"source\":{\"id\":\"1002\",\"type\":\"ColumnDataSource\"}},\"id\":\"1049\",\"type\":\"CDSView\"},{\"attributes\":{},\"id\":\"1013\",\"type\":\"LinearScale\"},{\"attributes\":{},\"id\":\"1028\",\"type\":\"SaveTool\"},{\"attributes\":{},\"id\":\"1011\",\"type\":\"LinearScale\"},{\"attributes\":{\"axis_label\":\"Amount\",\"axis_label_text_font_size\":{\"value\":\"14px\"},\"axis_line_color\":{\"value\":null},\"formatter\":{\"id\":\"1050\",\"type\":\"NumeralTickFormatter\"},\"major_label_text_font_size\":{\"value\":\"12px\"},\"major_tick_line_color\":{\"value\":null},\"minor_tick_line_color\":{\"value\":null},\"ticker\":{\"id\":\"1021\",\"type\":\"BasicTicker\"}},\"id\":\"1020\",\"type\":\"LinearAxis\"},{\"attributes\":{},\"id\":\"1057\",\"type\":\"UnionRenderers\"},{\"attributes\":{},\"id\":\"1021\",\"type\":\"BasicTicker\"},{\"attributes\":{\"active_drag\":\"auto\",\"active_inspect\":\"auto\",\"active_multi\":null,\"active_scroll\":\"auto\",\"active_tap\":\"auto\",\"tools\":[{\"id\":\"1025\",\"type\":\"PanTool\"},{\"id\":\"1026\",\"type\":\"WheelZoomTool\"},{\"id\":\"1027\",\"type\":\"BoxZoomTool\"},{\"id\":\"1028\",\"type\":\"SaveTool\"},{\"id\":\"1029\",\"type\":\"ResetTool\"},{\"id\":\"1030\",\"type\":\"HelpTool\"}]},\"id\":\"1031\",\"type\":\"Toolbar\"},{\"attributes\":{\"dimension\":1,\"grid_line_color\":null,\"ticker\":{\"id\":\"1021\",\"type\":\"BasicTicker\"}},\"id\":\"1024\",\"type\":\"Grid\"},{\"attributes\":{\"source\":{\"id\":\"1003\",\"type\":\"ColumnDataSource\"}},\"id\":\"1043\",\"type\":\"CDSView\"},{\"attributes\":{\"callback\":null},\"id\":\"1007\",\"type\":\"DataRange1d\"},{\"attributes\":{\"fill_alpha\":{\"value\":0.1},\"fill_color\":{\"value\":\"#1f77b4\"},\"line_alpha\":{\"value\":0.1},\"line_color\":{\"value\":\"#1f77b4\"},\"x\":{\"field\":\"x\",\"transform\":{\"id\":\"1038\",\"type\":\"Jitter\"}},\"y\":{\"field\":\"y\"}},\"id\":\"1041\",\"type\":\"Circle\"},{\"attributes\":{\"format\":\"$0,0\"},\"id\":\"1050\",\"type\":\"NumeralTickFormatter\"},{\"attributes\":{},\"id\":\"1025\",\"type\":\"PanTool\"},{\"attributes\":{},\"id\":\"1029\",\"type\":\"ResetTool\"},{\"attributes\":{\"data_source\":{\"id\":\"1003\",\"type\":\"ColumnDataSource\"},\"glyph\":{\"id\":\"1040\",\"type\":\"Circle\"},\"hover_glyph\":null,\"muted_glyph\":null,\"nonselection_glyph\":{\"id\":\"1041\",\"type\":\"Circle\"},\"selection_glyph\":null,\"view\":{\"id\":\"1043\",\"type\":\"CDSView\"}},\"id\":\"1042\",\"type\":\"GlyphRenderer\"},{\"attributes\":{\"range\":{\"id\":\"1007\",\"type\":\"DataRange1d\"},\"width\":0.9},\"id\":\"1044\",\"type\":\"Jitter\"},{\"attributes\":{\"fill_alpha\":{\"value\":0.1},\"fill_color\":{\"value\":\"#1f77b4\"},\"line_alpha\":{\"value\":0.1},\"line_color\":{\"value\":\"#1f77b4\"},\"x\":{\"field\":\"x\",\"transform\":{\"id\":\"1044\",\"type\":\"Jitter\"}},\"y\":{\"field\":\"y\"}},\"id\":\"1047\",\"type\":\"Circle\"},{\"attributes\":{},\"id\":\"1054\",\"type\":\"BasicTickFormatter\"},{\"attributes\":{\"bottom_units\":\"screen\",\"fill_alpha\":{\"value\":0.5},\"fill_color\":{\"value\":\"lightgrey\"},\"left_units\":\"screen\",\"level\":\"overlay\",\"line_alpha\":{\"value\":1.0},\"line_color\":{\"value\":\"black\"},\"line_dash\":[4,4],\"line_width\":{\"value\":2},\"render_mode\":\"css\",\"right_units\":\"screen\",\"top_units\":\"screen\"},\"id\":\"1056\",\"type\":\"BoxAnnotation\"},{\"attributes\":{},\"id\":\"1026\",\"type\":\"WheelZoomTool\"},{\"attributes\":{},\"id\":\"1058\",\"type\":\"Selection\"},{\"attributes\":{\"callback\":null,\"data\":{\"x\":{\"__ndarray__\":\"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\",\"dtype\":\"float64\",\"shape\":[2848]},\"y\":{\"__ndarray__\":\"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\",\"dtype\":\"float64\",\"shape\":[2848]}},\"selected\":{\"id\":\"1058\",\"type\":\"Selection\"},\"selection_policy\":{\"id\":\"1057\",\"type\":\"UnionRenderers\"}},\"id\":\"1003\",\"type\":\"ColumnDataSource\"},{\"attributes\":{},\"id\":\"1059\",\"type\":\"UnionRenderers\"},{\"attributes\":{},\"id\":\"1060\",\"type\":\"Selection\"},{\"attributes\":{\"callback\":null,\"data\":{\"x\":{\"__ndarray__\":\"AAAAAAAA8D8AAAAAAADwPwAAAAAAAABAAAAAAAAAAEAAAAAAAAAIQAAAAAAAAAhAAAAAAAAACEAAAAAAAAAIQAAAAAAAAAhAAAAAAAAACEAAAAAAAAAIQAAAAAAAAAhAAAAAAAAACEAAAAAAAAAIQAAAAAAAAAhAAAAAAAAACEAAAAAAAAAIQAAAAAAAAAhAAAAAAAAACEAAAAAAAAAIQAAAAAAAAAhAAAAAAAAACEAAAAAAAAAIQAAAAAAAAAhAAAAAAAAACEAAAAAAAAAQQAAAAAAAABBAAAAAAAAAEEAAAAAAAAAQQAAAAAAAABBAAAAAAAAAEEAAAAAAAAAQQAAAAAAAABBAAAAAAAAAEEAAAAAAAAAQQAAAAAAAABBAAAAAAAAAEEAAAAAAAAAQQAAAAAAAABRAAAAAAAAAFEAAAAAAAAAUQAAAAAAAABRAAAAAAAAAFEAAAAAAAAAUQAAAAAAAABhAAAAAAAAAGEAAAAAAAAAYQAAAAAAAABhAAAAAAAAAGEAAAAAAAAAYQAAAAAAAABhAAAAAAAAAGEAAAAAAAAAYQAAAAAAAABhAAAAAAAAAGEAAAAAAAAAcQAAAAAAAABxAAAAAAAAAHEAAAAAAAAAgQAAAAAAAACBAAAAAAAAAIEAAAAAAAAAgQAAAAAAAACBAAAAAAAAAIEAAAAAAAAAgQAAAAAAAACBAAAAAAAAAIEAAAAAAAAAgQAAAAAAAACBAAAAAAAAAIEAAAAAAAAAgQAAAAAAAACBAAAAAAAAAIEAAAAAAAAAgQAAAAAAAACBAAAAAAAAAIEAAAAAAAAAgQAAAAAAAACBAAAAAAAAAIEAAAAAAAAAgQAAAAAAAACBAAAAAAAAAIkAAAAAAAAAiQAAAAAAAACJAAAAAAAAAIkAAAAAAAAAiQAAAAAAAACRAAAAAAAAAJEAAAAAAAAAkQAAAAAAAACRAAAAAAAAAJEAAAAAAAAAkQAAAAAAAACRAAAAAAAAAJEAAAAAAAAAkQAAAAAAAACRAAAAAAAAAJEAAAAAAAAAkQAAAAAAAACRAAAAAAAAAJEAAAAAAAAAkQAAAAAAAACZAAAAAAAAAJkAAAAAAAAAoQAAAAAAAAChAAAAAAAAAKEAAAAAAAAAoQAAAAAAAAChAAAAAAAAAKEAAAAAAAAAoQAAAAAAAAChAAAAAAAAAKEAAAAAAAAAoQAAAAAAAAChAAAAAAAAAKEAAAAAAAAAoQAAAAAAAAChAAAAAAAAAKEAAAAAAAAAoQAAAAAAAAChAAAAAAAAAKEAAAAAAAAAoQAAAAAAAAChAAAAAAAAAKEAAAAAAAAAoQAAAAAAAAChAAAAAAAAAKEAAAAAAAAAoQAAAAAAAAChAAAAAAAAAKEAAAAAAAAAoQAAAAAAAAChAAAAAAAAAKEAAAAAAAAAoQAAAAAAAAChAAAAAAAAAKEAAAAAAAAAoQAAAAAAAAChAAAAAAAAAKEAAAAAAAAAoQAAAAAAAAChAAAAAAAAAKEAAAAAAAAAoQAAAAAAAAChAAAAAAAAAKEAAAAAAAAAoQAAAAAAAACpAAAAAAAAAKkAAAAAAAAAqQAAAAAAAACpAAAAAAAAAKkAAAAAAAAAqQAAAAAAAACpAAAAAAAAAKkAAAAAAAAAqQAAAAAAAACxAAAAAAAAALEAAAAAAAAAsQAAAAAAAACxAAAAAAAAALEAAAAAAAAAsQAAAAAAAACxAAAAAAAAALEAAAAAAAAAsQAAAAAAAAC5AAAAAAAAALkAAAAAAAAAuQAAAAAAAAC5AAAAAAAAALkAAAAAAAAAuQAAAAAAAAC5AAAAAAAAALkAAAAAAAAAuQAAAAAAAAC5AAAAAAAAALkAAAAAAAAAuQAAAAAAAAC5AAAAAAAAAMEAAAAAAAAAwQAAAAAAAADBAAAAAAAAAMEAAAAAAAAAwQAAAAAAAADBAAAAAAAAAMEAAAAAAAAAwQAAAAAAAADBAAAAAAAAAMEAAAAAAAAAwQAAAAAAAADBAAAAAAAAAMEAAAAAAAAAwQAAAAAAAADFAAAAAAAAAMUAAAAAAAAAxQAAAAAAAADFAAAAAAAAAMUAAAAAAAAAxQAAAAAAAADFAAAAAAAAAMUAAAAAAAAAxQAAAAAAAADFAAAAAAAAAMUAAAAAAAAAxQAAAAAAAADFAAAAAAAAAMUAAAAAAAAAyQAAAAAAAADJAAAAAAAAAMkAAAAAAAAAyQAAAAAAAADJAAAAAAAAAMkAAAAAAAAAyQAAAAAAAADJAAAAAAAAAMkAAAAAAAAAyQAAAAAAAADJAAAAAAAAAMkAAAAAAAAAzQAAAAAAAADNAAAAAAAAAM0AAAAAAAAAzQAAAAAAAADNAAAAAAAAAM0AAAAAAAAAzQAAAAAAAADNAAAAAAAAAM0AAAAAAAAAzQAAAAAAAADNAAAAAAAAAM0AAAAAAAAAzQAAAAAAAADNAAAAAAAAAM0AAAAAAAAA0QAAAAAAAADRAAAAAAAAANEAAAAAAAAA0QAAAAAAAADRAAAAAAAAANEAAAAAAAAA0QAAAAAAAADVAAAAAAAAANUAAAAAAAAA1QAAAAAAAADVAAAAAAAAANUAAAAAAAAA1QAAAAAAAADVAAAAAAAAANUAAAAAAAAA2QAAAAAAAADZAAAAAAAAANkAAAAAAAAA2QAAAAAAAADZAAAAAAAAANkAAAAAAAAA2QAAAAAAAADZAAAAAAAAANkAAAAAAAAA2QAAAAAAAADZAAAAAAAAANkAAAAAAAAA2QAAAAAAAADZAAAAAAAAAN0AAAAAAAAA3QAAAAAAAADdAAAAAAAAAAAAAAAAAAAAAAAAAAAAAAAAAAAAAAAAAAAAAAAAAAAAAAAAAAAAAAAAAAAAAAAAAAAAAAAAAAAAAAAAAAAAAAAAAAAAAAAAAAAAAAAAAAAAAAAAAAAAAAAAAAAAAAAAAAAAAAAAAAAAAAAAAAAAAAAAAAAAAAAAAAAAAAAAAAAAAAAAAAAAAAPA/AAAAAAAA8D8AAAAAAADwPwAAAAAAAPA/AAAAAAAAAEAAAAAAAAAAQAAAAAAAAABAAAAAAAAAAEAAAAAAAAAAQAAAAAAAAABAAAAAAAAAAEAAAAAAAAAAQAAAAAAAAAhAAAAAAAAACEAAAAAAAAAIQAAAAAAAAAhAAAAAAAAACEAAAAAAAAAIQAAAAAAAAAhAAAAAAAAACEAAAAAAAAAIQAAAAAAAAAhAAAAAAAAACEAAAAAAAAAIQAAAAAAAAAhAAAAAAAAACEAAAAAAAAAIQAAAAAAAAAhAAAAAAAAACEAAAAAAAAAIQAAAAAAAAAhAAAAAAAAACEAAAAAAAAAIQAAAAAAAAAhAAAAAAAAACEAAAAAAAAAIQAAAAAAAAAhAAAAAAAAACEAAAAAAAAAIQAAAAAAAAAhAAAAAAAAACEAAAAAAAAAIQAAAAAAAAAhAAAAAAAAACEAAAAAAAAAIQAAAAAAAAAhAAAAAAAAACEAAAAAAAAAIQAAAAAAAABBAAAAAAAAAEEAAAAAAAAAQQAAAAAAAABBAAAAAAAAAFEAAAAAAAAAUQAAAAAAAABRAAAAAAAAAFEAAAAAAAAAUQAAAAAAAABRAAAAAAAAAFEAAAAAAAAAUQAAAAAAAABRAAAAAAAAAFEAAAAAAAAAUQAAAAAAAABRAAAAAAAAAFEAAAAAAAAAUQAAAAAAAABRAAAAAAAAAFEAAAAAAAAAUQAAAAAAAABxAAAAAAAAAHEAAAAAAAAAcQAAAAAAAABxAAAAAAAAAHEAAAAAAAAAcQAAAAAAAACJAAAAAAAAAIkAAAAAAAAAiQAAAAAAAACJAAAAAAAAAJEAAAAAAAAAmQAAAAAAAACZAAAAAAAAAJkAAAAAAAAAmQAAAAAAAACZAAAAAAAAAJkAAAAAAAAAoQAAAAAAAAChAAAAAAAAAKEAAAAAAAAAoQAAAAAAAAChAAAAAAAAAKEAAAAAAAAAoQAAAAAAAAChAAAAAAAAAKEAAAAAAAAAoQAAAAAAAACpAAAAAAAAAKkAAAAAAAAAqQAAAAAAAACpAAAAAAAAAKkAAAAAAAAAqQAAAAAAAACpAAAAAAAAAKkAAAAAAAAAsQAAAAAAAACxAAAAAAAAALEAAAAAAAAAsQAAAAAAAACxAAAAAAAAALEAAAAAAAAAsQAAAAAAAACxAAAAAAAAALkAAAAAAAAAuQAAAAAAAAC5AAAAAAAAALkAAAAAAAAAuQAAAAAAAAC5AAAAAAAAALkAAAAAAAAAuQAAAAAAAAC5AAAAAAAAALkAAAAAAAAAwQAAAAAAAADBAAAAAAAAAMEAAAAAAAAAwQAAAAAAAADBAAAAAAAAAMEAAAAAAAAAwQAAAAAAAADBAAAAAAAAAMEAAAAAAAAAwQAAAAAAAADBAAAAAAAAAMEAAAAAAAAAxQAAAAAAAADFAAAAAAAAAMUAAAAAAAAAxQAAAAAAAADFAAAAAAAAAMUAAAAAAAAAxQAAAAAAAADFAAAAAAAAAMkAAAAAAAAAyQAAAAAAAADJAAAAAAAAAMkAAAAAAAAAyQAAAAAAAADJAAAAAAAAAMkAAAAAAAAAyQAAAAAAAADJAAAAAAAAAMkAAAAAAAAAyQAAAAAAAADJAAAAAAAAAMkAAAAAAAAAyQAAAAAAAADJAAAAAAAAAMkAAAAAAAAAyQAAAAAAAADNAAAAAAAAAM0AAAAAAAAAzQAAAAAAAADNAAAAAAAAAM0AAAAAAAAAzQAAAAAAAADNAAAAAAAAAM0AAAAAAAAAzQAAAAAAAADNAAAAAAAAAM0AAAAAAAAAzQAAAAAAAADNAAAAAAAAAM0AAAAAAAAAzQAAAAAAAADNAAAAAAAAAM0AAAAAAAAAzQAAAAAAAADRAAAAAAAAANEAAAAAAAAA0QAAAAAAAADRAAAAAAAAANEAAAAAAAAA0QAAAAAAAADRAAAAAAAAANEAAAAAAAAA0QAAAAAAAADRAAAAAAAAANEAAAAAAAAA0QAAAAAAAADVAAAAAAAAANUAAAAAAAAA1QAAAAAAAADVAAAAAAAAANUAAAAAAAAA1QAAAAAAAADVAAAAAAAAANUAAAAAAAAA1QAAAAAAAADVAAAAAAAAANkAAAAAAAAA2QAAAAAAAADdAAAAAAAAAN0AAAAAAAAA3QAAAAAAAADdAAAAAAAAAN0AAAAAAAAA3QAAAAAAAAAAAAAAAAAAAAAAAAAAAAAAAAAAAAAAAAAAA\",\"dtype\":\"float64\",\"shape\":[492]},\"y\":{\"__ndarray__\":\"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\",\"dtype\":\"float64\",\"shape\":[492]}},\"selected\":{\"id\":\"1060\",\"type\":\"Selection\"},\"selection_policy\":{\"id\":\"1059\",\"type\":\"UnionRenderers\"}},\"id\":\"1002\",\"type\":\"ColumnDataSource\"}],\"root_ids\":[\"1004\"]},\"title\":\"Bokeh Application\",\"version\":\"1.3.0\"}};\n",
       "  var render_items = [{\"docid\":\"3811d8f3-9c8e-4350-bd9b-3433a8fd2356\",\"roots\":{\"1004\":\"e389ac68-996f-4518-a79c-5ccce249063a\"}}];\n",
       "  root.Bokeh.embed.embed_items_notebook(docs_json, render_items);\n",
       "\n",
       "  }\n",
       "  if (root.Bokeh !== undefined) {\n",
       "    embed_document(root);\n",
       "  } else {\n",
       "    var attempts = 0;\n",
       "    var timer = setInterval(function(root) {\n",
       "      if (root.Bokeh !== undefined) {\n",
       "        embed_document(root);\n",
       "        clearInterval(timer);\n",
       "      }\n",
       "      attempts++;\n",
       "      if (attempts > 100) {\n",
       "        console.log(\"Bokeh: ERROR: Unable to run BokehJS code because BokehJS library is missing\");\n",
       "        clearInterval(timer);\n",
       "      }\n",
       "    }, 10, root)\n",
       "  }\n",
       "})(window);"
      ],
      "application/vnd.bokehjs_exec.v0+json": ""
     },
     "metadata": {
      "application/vnd.bokehjs_exec.v0+json": {
       "id": "1004"
      }
     },
     "output_type": "display_data"
    }
   ],
   "source": [
    "# Get only fraud transactions\n",
    "fraud_df = df[df['Class'] == 1]\n",
    "f_source = ColumnDataSource(data = dict(x = fraud_df['TimeNorm'].values,\n",
    "                                    y = fraud_df['Amount'].values))\n",
    "# get only normal transactions\n",
    "non_fraud_df = df[df['Class'] == 0]\n",
    "# Limit amount of data in plot\n",
    "sample_non_fraud = df.sample(frac=0.01, replace=False)\n",
    "norm_source = ColumnDataSource(data = dict(x = sample_non_fraud['TimeNorm'].values,\n",
    "                                    y = sample_non_fraud['Amount'].values))\n",
    "# create Bokeh figure\n",
    "p = figure(plot_width = 800, \n",
    "           toolbar_location = None, \n",
    "           title = 'Transactions by Time and Amount')\n",
    "\n",
    "# plot Normal Transactions\n",
    "p.circle(x=jitter('x', width=0.9, range=p.x_range), \n",
    "         y='y', color = Set3_12[4], \n",
    "         fill_alpha = 0.1, \n",
    "         source = norm_source)\n",
    "\n",
    "# plot fraud transactions\n",
    "p.circle(x=jitter('x', width=0.9,range=p.x_range), \n",
    "         y='y', color = Set3_12[3], \n",
    "         fill_alpha = 0.7, \n",
    "         source = f_source)\n",
    "\n",
    "#function to format plot\n",
    "p = format_plot(p, \"Time\", \"Amount\")\n",
    "\n",
    "p.yaxis[0].formatter = NumeralTickFormatter(format=\"$0,0\")\n",
    "\n",
    "show(p)"
   ]
  },
  {
   "cell_type": "code",
   "execution_count": 9,
   "metadata": {
    "_cell_guid": "d2307c8b-a4c1-4328-8b19-304764b7e415",
    "_uuid": "e5346ed796563d9f07f4fbc4052706db2309382e"
   },
   "outputs": [
    {
     "data": {
      "text/plain": [
       "2125.87"
      ]
     },
     "execution_count": 9,
     "metadata": {},
     "output_type": "execute_result"
    }
   ],
   "source": [
    "df.loc[df['Class'] == 1, 'Amount'].max()"
   ]
  },
  {
   "cell_type": "markdown",
   "metadata": {
    "_cell_guid": "ac5e0c55-73c9-4014-a590-3ad7b42d4f59",
    "_uuid": "c5dc91db655efe292b8f7b12088c1f839b8224f8"
   },
   "source": [
    "From the chart above, it appears that there is no clear time window when fraud occurs more frequently. You can also see that all fraudulent charges fall below $2,126. While there may not be a lot of information gained by a visual inspection of time, I decided to leave it in the dataset as there may be some interactions with other variables that help detect these charges.\n",
    "\n",
    "### Data Normalization\n",
    "\n",
    "Next I normalized the time and amount variables to ease with model learning,and split the data into a training and testing dataset. "
   ]
  },
  {
   "cell_type": "code",
   "execution_count": 10,
   "metadata": {
    "_cell_guid": "0d31507d-0973-46af-a1b2-3ceb344bbc79",
    "_uuid": "1ac110a0e822b3b0482c97d9a41307e919f92df2"
   },
   "outputs": [],
   "source": [
    "scl = StandardScaler()\n",
    "df['TimeNorm'] = scl.fit_transform(df['TimeNorm'].values.reshape(-1,1))\n",
    "scl = StandardScaler()\n",
    "df['NormAmt'] = scl.fit_transform(df['Amount'].values.reshape(-1,1))"
   ]
  },
  {
   "cell_type": "code",
   "execution_count": 11,
   "metadata": {
    "_cell_guid": "d0479edc-5c36-414d-892f-3d3cade9d6c8",
    "_uuid": "0e1c390f964f0fe2c8e2d04d7eef87b94fcdf5a3"
   },
   "outputs": [],
   "source": [
    "df = df.drop(['Time', 'Amount'], axis = 1)"
   ]
  },
  {
   "cell_type": "code",
   "execution_count": 12,
   "metadata": {
    "_cell_guid": "23d5e4e5-a5cd-47a1-b2de-bce97fb24b8c",
    "_uuid": "6218aab26141161c03eb9ded335f9f87c03d3fdf"
   },
   "outputs": [],
   "source": [
    "x_train, x_test = train_test_split(df, test_size = 0.2, random_state = 42)"
   ]
  },
  {
   "cell_type": "markdown",
   "metadata": {
    "_cell_guid": "eb62e564-e12f-4f7d-a5d2-e1ae089a7e43",
    "_uuid": "afb216ac5cccf92c97e7dce310195bf1b258cbcb"
   },
   "source": [
    "Since we are training an autoencoder that will learn the features of a normal transaction, we filter the training set to remove all transactions that were fraudulent from the training set . We leave the test set as is, containing both types of transactions."
   ]
  },
  {
   "cell_type": "code",
   "execution_count": 13,
   "metadata": {
    "_cell_guid": "497a24fd-1022-4132-8011-71c95444b89e",
    "_uuid": "61778afec50e7a62f3fd1fdac3d0eedb354d3549"
   },
   "outputs": [
    {
     "data": {
      "text/plain": [
       "((227451, 30), (56962, 30))"
      ]
     },
     "execution_count": 13,
     "metadata": {},
     "output_type": "execute_result"
    }
   ],
   "source": [
    "x_train = x_train[x_train['Class'] == 0]\n",
    "x_train = x_train.drop('Class', axis = 1)\n",
    "\n",
    "y_test = x_test['Class'].values\n",
    "x_test = x_test.drop('Class', axis = 1)\n",
    "x_test = x_test.values\n",
    "x_train = x_train.values\n",
    "\n",
    "x_train.shape, x_test.shape"
   ]
  },
  {
   "cell_type": "markdown",
   "metadata": {
    "_cell_guid": "0f73d302-0bb6-45cb-b06a-943ba5f76e21",
    "_uuid": "ed755801b10cfd63072e420f87ee8e0ac4a215b7"
   },
   "source": [
    "Next I transformed the numpy arrays as a PyTorch Float Tensor and loaded them into a DataLoader object. The dataloader is a generator that feeds the data to the training loop at the specified batch size."
   ]
  },
  {
   "cell_type": "code",
   "execution_count": 14,
   "metadata": {
    "_cell_guid": "438becd5-e3ce-42cc-96ce-c170be2f4989",
    "_uuid": "a80b55e87c252d8f86378b83892f7847a000419c"
   },
   "outputs": [],
   "source": [
    "xt = torch.FloatTensor(x_train)\n",
    "xtr = torch.FloatTensor(x_test)\n",
    "xdl = DataLoader(xt,batch_size = 1000)\n",
    "tdl = DataLoader(xtr, batch_size = 1000)"
   ]
  },
  {
   "cell_type": "markdown",
   "metadata": {
    "_cell_guid": "aa2c90f4-a380-4602-a30b-3baa5c1d8cda",
    "_uuid": "f47c9985a7324ebd5eedc0ec865f14951d8b86e9"
   },
   "source": [
    "### Autoencoder Model\n",
    "\n",
    "The architecture of the autoencoder consist of 4 fully connected layers starting at an input size of 30 (30 variables) reducing down to 10 and then decoding back up to 30."
   ]
  },
  {
   "cell_type": "code",
   "execution_count": 15,
   "metadata": {
    "_cell_guid": "9536f662-9852-4681-acfe-2af6aef2d43e",
    "_uuid": "50a8dbbf90abe1ce4f5515946feee80dfdd569e0"
   },
   "outputs": [],
   "source": [
    "class Net1(nn.Module):\n",
    "    def __init__(self):\n",
    "        super().__init__()\n",
    "        self.lin1 = nn.Linear(30,20)\n",
    "        self.lin2 = nn.Linear(20,10)\n",
    "        self.lin7 = nn.Linear(10,20)\n",
    "        self.lin8 = nn.Linear(20,30)\n",
    "        \n",
    "        self.drop2 = nn.Dropout(0.05)\n",
    "        \n",
    "        self.lin1.weight.data.uniform_(-2,2)\n",
    "        self.lin2.weight.data.uniform_(-2,2)\n",
    "        self.lin7.weight.data.uniform_(-2,2)\n",
    "        self.lin8.weight.data.uniform_(-2,2)\n",
    "\n",
    "    def forward(self, data):\n",
    "        x = F.tanh(self.lin1(data))\n",
    "        x = self.drop2(F.tanh(self.lin2(x)))\n",
    "        x = F.tanh(self.lin7(x))\n",
    "        x = self.lin8(x)\n",
    "        \n",
    "        return (x)"
   ]
  },
  {
   "cell_type": "markdown",
   "metadata": {
    "_cell_guid": "13ff07ac-4e72-4dfc-a710-1fa7b9b60788",
    "_uuid": "72664dd371321fd34de43df53868e56a9785c094"
   },
   "source": [
    "This function utilizes the model's loss function to calculate the loss for the validation test set. In this instance of using an autoencoder for anomaly detection, the validation score doesn't mean much since it will have both fraud and non-fraud scores. What we really care about is having the model learn as much as it can about the features of a normal transaction."
   ]
  },
  {
   "cell_type": "code",
   "execution_count": 21,
   "metadata": {
    "_cell_guid": "1617ce50-2a19-47f4-b3c5-31e87a0d7970",
    "_uuid": "e702ad6f8272d4bf65c4586d2d0ad957a63587c9"
   },
   "outputs": [],
   "source": [
    "def score(x):\n",
    "    y_pred = model(V(x))\n",
    "    x1 = V(x)\n",
    "    return loss(y_pred,x1).item()"
   ]
  },
  {
   "cell_type": "markdown",
   "metadata": {
    "_cell_guid": "28cac8a1-6e2f-48f7-8e67-2c3da30be4da",
    "_uuid": "019a008e24c350d95abc46490755a5cc5ea4e384"
   },
   "source": [
    "Next is the training loop. This function takes in the number of epochs you want to run as well as a model_loss variable that is used to keep the history (model and validation loss) at each epoch. \n",
    "This is a fairly standard PyTorch training loop, except that instead of taking in a X and a Y variable, it takes in X from the dataloader, gets the prediction from the model, and determines the loss between the original X and the model prediction. It then goes on to change the gradients through back propagation based on the determined loss."
   ]
  },
  {
   "cell_type": "code",
   "execution_count": 22,
   "metadata": {
    "_cell_guid": "1a3c8670-4020-48d9-bef4-2166c6537ad7",
    "_uuid": "744eb82af18167ee3c3f0febc8005410c770864b"
   },
   "outputs": [],
   "source": [
    "# Utilize a named tuple to keep track of scores at each epoch\n",
    "model_hist = collections.namedtuple('Model','epoch loss val_loss')\n",
    "model_loss = model_hist(epoch = [], loss = [], val_loss = [])"
   ]
  },
  {
   "cell_type": "code",
   "execution_count": 26,
   "metadata": {
    "_cell_guid": "bae18a52-cd49-4a42-8bbf-4351b2425dfc",
    "_uuid": "81b56b9e98efb87c20fbf03f7b79b2ee77ffeb16"
   },
   "outputs": [],
   "source": [
    "def train(epochs, model, model_loss):\n",
    "    try:c = model_loss.epoch[-1]\n",
    "    except: c = 0\n",
    "    for epoch in tqdm_notebook(range(epochs),position=0, total = epochs):\n",
    "        losses=[]\n",
    "        dl = iter(xdl)\n",
    "        for t in range(len(dl)):\n",
    "            # Forward pass: compute predicted y and loss by passing x to the model.\n",
    "            xt = next(dl)\n",
    "            y_pred = model(V(xt))\n",
    "            \n",
    "            l = loss(y_pred,V(xt))\n",
    "            losses.append(l)\n",
    "            optimizer.zero_grad()\n",
    "\n",
    "            # Backward pass: compute gradient of the loss with respect to model parameters\n",
    "            l.backward()\n",
    "\n",
    "            # Calling the step function on an Optimizer makes an update to its parameters\n",
    "            optimizer.step()\n",
    "    \n",
    "        val_dl = iter(tdl)\n",
    "        val_scores = [score(next(val_dl)) for i in range(len(val_dl))]\n",
    "        \n",
    "        model_loss.epoch.append(c+epoch)\n",
    "        model_loss.loss.append(l.item())\n",
    "        model_loss.val_loss.append(np.mean(val_scores))\n",
    "        print(f'Epoch: {epoch}   Loss: {l.item():.4f}    Val_Loss: {np.mean(val_scores):.4f}')"
   ]
  },
  {
   "cell_type": "markdown",
   "metadata": {
    "_cell_guid": "67505a1a-218b-46bc-a0ae-fe9257c96389",
    "_uuid": "7d92b4dd60ae82f3156b4fb957e7a4903d085ae8"
   },
   "source": [
    "### Model Training\n",
    "\n",
    "With the Pytorch structure set up we can now train the model."
   ]
  },
  {
   "cell_type": "code",
   "execution_count": 27,
   "metadata": {
    "_cell_guid": "f3332cfc-05a3-4994-b079-b0cd8db609a6",
    "_uuid": "e7948ba78ba83ac4187e2416657c2fc21484ebaa"
   },
   "outputs": [],
   "source": [
    "model = Net1()\n",
    "loss=nn.MSELoss()\n",
    "learning_rate = 1e-2\n",
    "optimizer=torch.optim.Adam(model.parameters(), lr=learning_rate)"
   ]
  },
  {
   "cell_type": "code",
   "execution_count": 28,
   "metadata": {
    "_cell_guid": "ed4c9fc0-2886-41f4-a706-2b2145684999",
    "_uuid": "9ca4ee45a358cf042d15dce46648dec87a3efc6c"
   },
   "outputs": [
    {
     "data": {
      "application/vnd.jupyter.widget-view+json": {
       "model_id": "033c06d54e0a4a389dddac13bb1da9b9",
       "version_major": 2,
       "version_minor": 0
      },
      "text/plain": [
       "HBox(children=(IntProgress(value=0, max=30), HTML(value='')))"
      ]
     },
     "metadata": {},
     "output_type": "display_data"
    },
    {
     "name": "stderr",
     "output_type": "stream",
     "text": [
      "C:\\Users\\fk49730\\AppData\\Local\\Continuum\\anaconda3\\lib\\site-packages\\torch\\nn\\functional.py:1374: UserWarning: nn.functional.tanh is deprecated. Use torch.tanh instead.\n",
      "  warnings.warn(\"nn.functional.tanh is deprecated. Use torch.tanh instead.\")\n"
     ]
    },
    {
     "name": "stdout",
     "output_type": "stream",
     "text": [
      "Epoch: 0   Loss: 1.0149    Val_Loss: 1.1091\n",
      "Epoch: 1   Loss: 0.9111    Val_Loss: 1.0222\n",
      "Epoch: 2   Loss: 0.8903    Val_Loss: 0.9931\n",
      "Epoch: 3   Loss: 0.8650    Val_Loss: 0.9622\n",
      "Epoch: 4   Loss: 0.8287    Val_Loss: 0.9132\n",
      "Epoch: 5   Loss: 0.7580    Val_Loss: 0.8613\n",
      "Epoch: 6   Loss: 0.7051    Val_Loss: 0.8138\n",
      "Epoch: 7   Loss: 0.6675    Val_Loss: 0.7744\n",
      "Epoch: 8   Loss: 0.6290    Val_Loss: 0.7464\n",
      "Epoch: 9   Loss: 0.6046    Val_Loss: 0.7196\n",
      "Epoch: 10   Loss: 0.5838    Val_Loss: 0.6944\n",
      "Epoch: 11   Loss: 0.5579    Val_Loss: 0.6683\n",
      "Epoch: 12   Loss: 0.5451    Val_Loss: 0.6448\n",
      "Epoch: 13   Loss: 0.5131    Val_Loss: 0.6285\n",
      "Epoch: 14   Loss: 0.5172    Val_Loss: 0.6116\n",
      "Epoch: 15   Loss: 0.5012    Val_Loss: 0.5951\n",
      "Epoch: 16   Loss: 0.4667    Val_Loss: 0.5818\n",
      "Epoch: 17   Loss: 0.4889    Val_Loss: 0.5737\n",
      "Epoch: 18   Loss: 0.4675    Val_Loss: 0.5642\n",
      "Epoch: 19   Loss: 0.4505    Val_Loss: 0.5559\n",
      "Epoch: 20   Loss: 0.4430    Val_Loss: 0.5407\n",
      "Epoch: 21   Loss: 0.4286    Val_Loss: 0.5257\n",
      "Epoch: 22   Loss: 0.4047    Val_Loss: 0.5108\n",
      "Epoch: 23   Loss: 0.3846    Val_Loss: 0.4944\n",
      "Epoch: 24   Loss: 0.3710    Val_Loss: 0.4874\n",
      "Epoch: 25   Loss: 0.3680    Val_Loss: 0.4836\n",
      "Epoch: 26   Loss: 0.3650    Val_Loss: 0.4698\n",
      "Epoch: 27   Loss: 0.3631    Val_Loss: 0.4753\n",
      "Epoch: 28   Loss: 0.3611    Val_Loss: 0.4503\n",
      "Epoch: 29   Loss: 0.3400    Val_Loss: 0.4424\n",
      "\n"
     ]
    }
   ],
   "source": [
    "train(model = model, epochs = 30,model_loss= model_loss)"
   ]
  },
  {
   "cell_type": "markdown",
   "metadata": {
    "_cell_guid": "e9d9cc50-820f-4575-83eb-28da3d0224cb",
    "_uuid": "e9bbc95a91e6d75e73ca9863cfeee70985f3490c"
   },
   "source": [
    "### Training Evaluation"
   ]
  },
  {
   "cell_type": "code",
   "execution_count": 29,
   "metadata": {
    "_cell_guid": "9781ea14-cb6e-4e45-a830-3112f50a913e",
    "_uuid": "8d2983865bdc541c5685384ab7702d38baf78621"
   },
   "outputs": [
    {
     "name": "stderr",
     "output_type": "stream",
     "text": [
      "BokehUserWarning: ColumnDataSource's columns must be of the same length. Current lengths: ('loss', 30), ('val_loss', 30), ('x', 31)\n"
     ]
    },
    {
     "data": {
      "text/html": [
       "\n",
       "\n",
       "\n",
       "\n",
       "\n",
       "\n",
       "  <div class=\"bk-root\" id=\"d8d554ef-352f-485e-8dbb-50335212c8ad\" data-root-id=\"1116\"></div>\n"
      ]
     },
     "metadata": {},
     "output_type": "display_data"
    },
    {
     "data": {
      "application/javascript": [
       "(function(root) {\n",
       "  function embed_document(root) {\n",
       "    \n",
       "  var docs_json = {\"0a6eadf7-6934-416d-8686-5767c2a05c29\":{\"roots\":{\"references\":[{\"attributes\":{\"background_fill_color\":{\"value\":\"whitesmoke\"},\"below\":[{\"id\":\"1127\",\"type\":\"LinearAxis\"}],\"center\":[{\"id\":\"1131\",\"type\":\"Grid\"},{\"id\":\"1136\",\"type\":\"Grid\"},{\"id\":\"1161\",\"type\":\"Legend\"}],\"left\":[{\"id\":\"1132\",\"type\":\"LinearAxis\"}],\"plot_height\":500,\"plot_width\":800,\"renderers\":[{\"id\":\"1153\",\"type\":\"GlyphRenderer\"},{\"id\":\"1166\",\"type\":\"GlyphRenderer\"}],\"title\":{\"id\":\"1117\",\"type\":\"Title\"},\"toolbar\":{\"id\":\"1143\",\"type\":\"Toolbar\"},\"toolbar_location\":null,\"x_range\":{\"id\":\"1119\",\"type\":\"DataRange1d\"},\"x_scale\":{\"id\":\"1123\",\"type\":\"LinearScale\"},\"y_range\":{\"id\":\"1121\",\"type\":\"DataRange1d\"},\"y_scale\":{\"id\":\"1125\",\"type\":\"LinearScale\"}},\"id\":\"1116\",\"subtype\":\"Figure\",\"type\":\"Plot\"},{\"attributes\":{\"label\":{\"value\":\"Training Loss\"},\"renderers\":[{\"id\":\"1153\",\"type\":\"GlyphRenderer\"}]},\"id\":\"1162\",\"type\":\"LegendItem\"},{\"attributes\":{\"dimension\":1,\"grid_line_color\":null,\"ticker\":{\"id\":\"1133\",\"type\":\"BasicTicker\"}},\"id\":\"1136\",\"type\":\"Grid\"},{\"attributes\":{\"overlay\":{\"id\":\"1160\",\"type\":\"BoxAnnotation\"}},\"id\":\"1139\",\"type\":\"BoxZoomTool\"},{\"attributes\":{\"source\":{\"id\":\"1115\",\"type\":\"ColumnDataSource\"}},\"id\":\"1154\",\"type\":\"CDSView\"},{\"attributes\":{},\"id\":\"1137\",\"type\":\"PanTool\"},{\"attributes\":{},\"id\":\"1174\",\"type\":\"UnionRenderers\"},{\"attributes\":{},\"id\":\"1140\",\"type\":\"SaveTool\"},{\"attributes\":{},\"id\":\"1125\",\"type\":\"LinearScale\"},{\"attributes\":{\"align\":\"center\",\"text\":\"Model L1 Loss\",\"text_font_size\":{\"value\":\"18px\"}},\"id\":\"1117\",\"type\":\"Title\"},{\"attributes\":{\"data_source\":{\"id\":\"1115\",\"type\":\"ColumnDataSource\"},\"glyph\":{\"id\":\"1164\",\"type\":\"Line\"},\"hover_glyph\":null,\"muted_glyph\":null,\"nonselection_glyph\":{\"id\":\"1165\",\"type\":\"Line\"},\"selection_glyph\":null,\"view\":{\"id\":\"1167\",\"type\":\"CDSView\"}},\"id\":\"1166\",\"type\":\"GlyphRenderer\"},{\"attributes\":{},\"id\":\"1133\",\"type\":\"BasicTicker\"},{\"attributes\":{\"source\":{\"id\":\"1115\",\"type\":\"ColumnDataSource\"}},\"id\":\"1167\",\"type\":\"CDSView\"},{\"attributes\":{\"label\":{\"value\":\"Validation Loss\"},\"renderers\":[{\"id\":\"1166\",\"type\":\"GlyphRenderer\"}]},\"id\":\"1176\",\"type\":\"LegendItem\"},{\"attributes\":{},\"id\":\"1142\",\"type\":\"HelpTool\"},{\"attributes\":{},\"id\":\"1141\",\"type\":\"ResetTool\"},{\"attributes\":{\"callback\":null},\"id\":\"1119\",\"type\":\"DataRange1d\"},{\"attributes\":{},\"id\":\"1123\",\"type\":\"LinearScale\"},{\"attributes\":{},\"id\":\"1158\",\"type\":\"BasicTickFormatter\"},{\"attributes\":{\"data_source\":{\"id\":\"1115\",\"type\":\"ColumnDataSource\"},\"glyph\":{\"id\":\"1151\",\"type\":\"Line\"},\"hover_glyph\":null,\"muted_glyph\":null,\"nonselection_glyph\":{\"id\":\"1152\",\"type\":\"Line\"},\"selection_glyph\":null,\"view\":{\"id\":\"1154\",\"type\":\"CDSView\"}},\"id\":\"1153\",\"type\":\"GlyphRenderer\"},{\"attributes\":{\"items\":[{\"id\":\"1162\",\"type\":\"LegendItem\"},{\"id\":\"1176\",\"type\":\"LegendItem\"}]},\"id\":\"1161\",\"type\":\"Legend\"},{\"attributes\":{\"grid_line_color\":null,\"ticker\":{\"id\":\"1128\",\"type\":\"BasicTicker\"}},\"id\":\"1131\",\"type\":\"Grid\"},{\"attributes\":{},\"id\":\"1156\",\"type\":\"BasicTickFormatter\"},{\"attributes\":{\"bottom_units\":\"screen\",\"fill_alpha\":{\"value\":0.5},\"fill_color\":{\"value\":\"lightgrey\"},\"left_units\":\"screen\",\"level\":\"overlay\",\"line_alpha\":{\"value\":1.0},\"line_color\":{\"value\":\"black\"},\"line_dash\":[4,4],\"line_width\":{\"value\":2},\"render_mode\":\"css\",\"right_units\":\"screen\",\"top_units\":\"screen\"},\"id\":\"1160\",\"type\":\"BoxAnnotation\"},{\"attributes\":{\"callback\":null,\"mode\":\"vline\",\"renderers\":[{\"id\":\"1153\",\"type\":\"GlyphRenderer\"}],\"tooltips\":[[\"Epoch\",\"@x\"],[\"Model Loss\",\"@loss{0.000}\"],[\"Val Loss\",\"@val_loss{0.000}\"]]},\"id\":\"1177\",\"type\":\"HoverTool\"},{\"attributes\":{\"line_alpha\":0.1,\"line_color\":\"#1f77b4\",\"line_width\":2,\"x\":{\"field\":\"x\"},\"y\":{\"field\":\"val_loss\"}},\"id\":\"1165\",\"type\":\"Line\"},{\"attributes\":{\"line_alpha\":0.1,\"line_color\":\"#1f77b4\",\"line_width\":2,\"x\":{\"field\":\"x\"},\"y\":{\"field\":\"loss\"}},\"id\":\"1152\",\"type\":\"Line\"},{\"attributes\":{\"axis_label\":\"Loss\",\"axis_label_text_font_size\":{\"value\":\"14px\"},\"axis_line_color\":{\"value\":null},\"formatter\":{\"id\":\"1156\",\"type\":\"BasicTickFormatter\"},\"major_label_text_font_size\":{\"value\":\"12px\"},\"major_tick_line_color\":{\"value\":null},\"minor_tick_line_color\":{\"value\":null},\"ticker\":{\"id\":\"1133\",\"type\":\"BasicTicker\"}},\"id\":\"1132\",\"type\":\"LinearAxis\"},{\"attributes\":{},\"id\":\"1128\",\"type\":\"BasicTicker\"},{\"attributes\":{\"axis_label\":\"Epoch\",\"axis_label_text_font_size\":{\"value\":\"14px\"},\"formatter\":{\"id\":\"1158\",\"type\":\"BasicTickFormatter\"},\"major_label_text_font_size\":{\"value\":\"12px\"},\"minor_tick_line_color\":{\"value\":null},\"ticker\":{\"id\":\"1128\",\"type\":\"BasicTicker\"}},\"id\":\"1127\",\"type\":\"LinearAxis\"},{\"attributes\":{},\"id\":\"1175\",\"type\":\"Selection\"},{\"attributes\":{\"callback\":null,\"data\":{\"loss\":[1.0149221420288086,0.9110669493675232,0.8903368711471558,0.8649643063545227,0.8286604285240173,0.7579705119132996,0.705079197883606,0.6674919724464417,0.6289860606193542,0.6046243906021118,0.583838701248169,0.5578942894935608,0.5451139211654663,0.5131168961524963,0.5172331929206848,0.501230001449585,0.4666743874549866,0.48893871903419495,0.46750766038894653,0.4504885971546173,0.4430067241191864,0.42859983444213867,0.4047022759914398,0.38464003801345825,0.37100914120674133,0.367975115776062,0.3650035858154297,0.3630845248699188,0.3611301779747009,0.33995142579078674],\"val_loss\":[1.1090830355359798,1.022197213089257,0.9930963652175769,0.9621626421024925,0.9131795962651571,0.861343662989767,0.8137502053327728,0.7743712674107468,0.7463959957423963,0.7196374075454578,0.694425622622172,0.668269205511662,0.6447615717586718,0.6285205211555749,0.6116061440685339,0.5951262581766698,0.5817639989811078,0.5736635405766336,0.564187097444869,0.5558838127997884,0.5407348510466123,0.5256614894197699,0.5108263189332527,0.4944428195033157,0.48738997704104375,0.48357030435612325,0.46979633862512155,0.4752623193096696,0.45033684372901917,0.4423911686529193],\"x\":[0,0,1,2,3,4,5,6,7,8,9,10,11,12,13,14,15,16,17,18,19,20,21,22,23,24,25,26,27,28,29]},\"selected\":{\"id\":\"1175\",\"type\":\"Selection\"},\"selection_policy\":{\"id\":\"1174\",\"type\":\"UnionRenderers\"}},\"id\":\"1115\",\"type\":\"ColumnDataSource\"},{\"attributes\":{\"line_color\":\"#80b1d3\",\"line_width\":2,\"x\":{\"field\":\"x\"},\"y\":{\"field\":\"loss\"}},\"id\":\"1151\",\"type\":\"Line\"},{\"attributes\":{\"line_color\":\"#fdb462\",\"line_width\":2,\"x\":{\"field\":\"x\"},\"y\":{\"field\":\"val_loss\"}},\"id\":\"1164\",\"type\":\"Line\"},{\"attributes\":{},\"id\":\"1138\",\"type\":\"WheelZoomTool\"},{\"attributes\":{\"callback\":null},\"id\":\"1121\",\"type\":\"DataRange1d\"},{\"attributes\":{\"active_drag\":\"auto\",\"active_inspect\":\"auto\",\"active_multi\":null,\"active_scroll\":\"auto\",\"active_tap\":\"auto\",\"tools\":[{\"id\":\"1137\",\"type\":\"PanTool\"},{\"id\":\"1138\",\"type\":\"WheelZoomTool\"},{\"id\":\"1139\",\"type\":\"BoxZoomTool\"},{\"id\":\"1140\",\"type\":\"SaveTool\"},{\"id\":\"1141\",\"type\":\"ResetTool\"},{\"id\":\"1142\",\"type\":\"HelpTool\"},{\"id\":\"1177\",\"type\":\"HoverTool\"}]},\"id\":\"1143\",\"type\":\"Toolbar\"}],\"root_ids\":[\"1116\"]},\"title\":\"Bokeh Application\",\"version\":\"1.3.0\"}};\n",
       "  var render_items = [{\"docid\":\"0a6eadf7-6934-416d-8686-5767c2a05c29\",\"roots\":{\"1116\":\"d8d554ef-352f-485e-8dbb-50335212c8ad\"}}];\n",
       "  root.Bokeh.embed.embed_items_notebook(docs_json, render_items);\n",
       "\n",
       "  }\n",
       "  if (root.Bokeh !== undefined) {\n",
       "    embed_document(root);\n",
       "  } else {\n",
       "    var attempts = 0;\n",
       "    var timer = setInterval(function(root) {\n",
       "      if (root.Bokeh !== undefined) {\n",
       "        embed_document(root);\n",
       "        clearInterval(timer);\n",
       "      }\n",
       "      attempts++;\n",
       "      if (attempts > 100) {\n",
       "        console.log(\"Bokeh: ERROR: Unable to run BokehJS code because BokehJS library is missing\");\n",
       "        clearInterval(timer);\n",
       "      }\n",
       "    }, 10, root)\n",
       "  }\n",
       "})(window);"
      ],
      "application/vnd.bokehjs_exec.v0+json": ""
     },
     "metadata": {
      "application/vnd.bokehjs_exec.v0+json": {
       "id": "1116"
      }
     },
     "output_type": "display_data"
    }
   ],
   "source": [
    "# Define a plot source\n",
    "source = ColumnDataSource(data=dict(\n",
    "    x=model_loss.epoch,\n",
    "    loss=model_loss.loss,\n",
    "    val_loss = model_loss.val_loss\n",
    "))\n",
    "\n",
    "p = figure(plot_height = 500, \n",
    "           plot_width = 800,\n",
    "           toolbar_location = None, \n",
    "           title = \"Model L1 Loss\")\n",
    "\n",
    "ml = p.line(x = \"x\", y = \"loss\", \n",
    "           color=Set3_12[4], \n",
    "           line_width = 2, \n",
    "           legend = \"Training Loss\", \n",
    "           source=source)\n",
    "\n",
    "p.line(x = \"x\", y = \"val_loss\", \n",
    "       color=Set3_12[5], \n",
    "       line_width = 2, \n",
    "       legend = \"Validation Loss\",\n",
    "       source=source)\n",
    "\n",
    "\n",
    "tips = [\n",
    "    (\"Epoch\",\"@x\"),\n",
    "    (\"Model Loss\",\"@loss{0.000}\"),\n",
    "    (\"Val Loss\",\"@val_loss{0.000}\")\n",
    "]\n",
    "p.add_tools(HoverTool(tooltips=tips, \n",
    "                      renderers= [ml], \n",
    "                      mode='vline'))\n",
    "\n",
    "\n",
    "p = format_plot(p, 'Epoch', 'Loss')\n",
    "\n",
    "show(p);"
   ]
  },
  {
   "cell_type": "markdown",
   "metadata": {
    "_cell_guid": "e06a2951-b2ca-4fd0-b9f5-7babc05ba2e6",
    "_uuid": "11c95fb3b0a822e00768e5e05056b8b275d6e348"
   },
   "source": [
    "From the chart above you can see that the the model loss is still going down. It is likely that there could have been additional performance gains from running a few more epochs to allow the loss to flatten out.\n",
    "\n",
    "Now it's time to calculate the reconstruction error on the test set to see how well it predicts normal transactions vs fraud.\n",
    "\n",
    "### Predictions\n",
    "\n",
    "Next I utilized the trained model to make predictions on the test set which. unlike the training set, has fraudulent transactions. I fed in the test dataloader to the model to get predictions,and then calculated the reconstruction error, which is the amount of error between the original input and the model predictions against the test set. The error for each row will be used to determine if each transaction is normal or fraud."
   ]
  },
  {
   "cell_type": "code",
   "execution_count": 30,
   "metadata": {
    "_cell_guid": "371d240a-a390-4e76-bddd-1bcef7dbda49",
    "_uuid": "c961bc95735d740d6f15705ba167d6b254d26395"
   },
   "outputs": [
    {
     "data": {
      "text/html": [
       "<div>\n",
       "<style scoped>\n",
       "    .dataframe tbody tr th:only-of-type {\n",
       "        vertical-align: middle;\n",
       "    }\n",
       "\n",
       "    .dataframe tbody tr th {\n",
       "        vertical-align: top;\n",
       "    }\n",
       "\n",
       "    .dataframe thead th {\n",
       "        text-align: right;\n",
       "    }\n",
       "</style>\n",
       "<table border=\"1\" class=\"dataframe\">\n",
       "  <thead>\n",
       "    <tr style=\"text-align: right;\">\n",
       "      <th></th>\n",
       "      <th>true</th>\n",
       "      <th>count</th>\n",
       "      <th>mean</th>\n",
       "      <th>std</th>\n",
       "      <th>min</th>\n",
       "      <th>25%</th>\n",
       "      <th>50%</th>\n",
       "      <th>75%</th>\n",
       "      <th>max</th>\n",
       "    </tr>\n",
       "  </thead>\n",
       "  <tbody>\n",
       "    <tr>\n",
       "      <th>0</th>\n",
       "      <td>0</td>\n",
       "      <td>56864.0</td>\n",
       "      <td>0.391852</td>\n",
       "      <td>1.297761</td>\n",
       "      <td>0.036249</td>\n",
       "      <td>0.184147</td>\n",
       "      <td>0.267799</td>\n",
       "      <td>0.399420</td>\n",
       "      <td>96.190883</td>\n",
       "    </tr>\n",
       "    <tr>\n",
       "      <th>1</th>\n",
       "      <td>1</td>\n",
       "      <td>98.0</td>\n",
       "      <td>29.612240</td>\n",
       "      <td>42.099566</td>\n",
       "      <td>0.180223</td>\n",
       "      <td>6.031295</td>\n",
       "      <td>12.447684</td>\n",
       "      <td>43.040485</td>\n",
       "      <td>253.894347</td>\n",
       "    </tr>\n",
       "  </tbody>\n",
       "</table>\n",
       "</div>"
      ],
      "text/plain": [
       "   true    count       mean        std       min       25%        50%  \\\n",
       "0     0  56864.0   0.391852   1.297761  0.036249  0.184147   0.267799   \n",
       "1     1     98.0  29.612240  42.099566  0.180223  6.031295  12.447684   \n",
       "\n",
       "         75%         max  \n",
       "0   0.399420   96.190883  \n",
       "1  43.040485  253.894347  "
      ]
     },
     "execution_count": 30,
     "metadata": {},
     "output_type": "execute_result"
    }
   ],
   "source": [
    "# Iterate through the dataloader and get predictions for each batch of the test set.\n",
    "p = iter(tdl)\n",
    "preds = np.vstack([model(V(next(p))).cpu().data.numpy() for i in range(len(p))])\n",
    "\n",
    "# Create a pandas DF that shows the Autoencoder MSE vs True Labels\n",
    "error = np.mean(np.power((x_test - preds),2), axis = 1)\n",
    "error_df = pd.DataFrame(data = {'error':error,'true':y_test})\n",
    "\n",
    "error_df.groupby('true')['error'].describe().reset_index()"
   ]
  },
  {
   "cell_type": "markdown",
   "metadata": {
    "_cell_guid": "1fda77cc-801c-430d-a285-41cd5d26e82f",
    "_uuid": "084800e79faeba25c1ef98b983b157e058040909"
   },
   "source": [
    "By stacking the error on the test set next to the actual target value (1,0) for ease of use I created a pandas DataFrame and grouped the data by the two types of transactions. From the summary table above we can see that the statistics for the two groups look quite different. However we have to evaluate further to see if they are in fact different enough for accurate final predictions. I started by looking at the ROC AUC."
   ]
  },
  {
   "cell_type": "code",
   "execution_count": 41,
   "metadata": {
    "_cell_guid": "00fe9763-4f5c-4047-8770-f1a4d1eaccbb",
    "_uuid": "f229f3b31d498a8dabddc88ea13591f50d72b7f9"
   },
   "outputs": [
    {
     "data": {
      "text/plain": [
       "array([1], dtype=int64)"
      ]
     },
     "execution_count": 41,
     "metadata": {},
     "output_type": "execute_result"
    }
   ],
   "source": [
    "error_df[error_df.true!=0].true.unique()"
   ]
  },
  {
   "cell_type": "code",
   "execution_count": 31,
   "metadata": {
    "_cell_guid": "00fe9763-4f5c-4047-8770-f1a4d1eaccbb",
    "_uuid": "f229f3b31d498a8dabddc88ea13591f50d72b7f9"
   },
   "outputs": [
    {
     "data": {
      "text/html": [
       "\n",
       "\n",
       "\n",
       "\n",
       "\n",
       "\n",
       "  <div class=\"bk-root\" id=\"134cb4cd-818d-4076-80cd-6e0cc6ca99d8\" data-root-id=\"1245\"></div>\n"
      ]
     },
     "metadata": {},
     "output_type": "display_data"
    },
    {
     "data": {
      "application/javascript": [
       "(function(root) {\n",
       "  function embed_document(root) {\n",
       "    \n",
       "  var docs_json = {\"f3561b7c-f7b9-4357-a573-c883e54d5bd5\":{\"roots\":{\"references\":[{\"attributes\":{\"background_fill_color\":{\"value\":\"whitesmoke\"},\"below\":[{\"id\":\"1256\",\"type\":\"LinearAxis\"}],\"center\":[{\"id\":\"1260\",\"type\":\"Grid\"},{\"id\":\"1265\",\"type\":\"Grid\"},{\"id\":\"1297\",\"type\":\"Legend\"}],\"left\":[{\"id\":\"1261\",\"type\":\"LinearAxis\"}],\"plot_height\":500,\"plot_width\":500,\"renderers\":[{\"id\":\"1282\",\"type\":\"GlyphRenderer\"},{\"id\":\"1287\",\"type\":\"GlyphRenderer\"}],\"title\":{\"id\":\"1246\",\"type\":\"Title\"},\"toolbar\":{\"id\":\"1272\",\"type\":\"Toolbar\"},\"toolbar_location\":null,\"x_range\":{\"id\":\"1248\",\"type\":\"DataRange1d\"},\"x_scale\":{\"id\":\"1252\",\"type\":\"LinearScale\"},\"y_range\":{\"id\":\"1250\",\"type\":\"DataRange1d\"},\"y_scale\":{\"id\":\"1254\",\"type\":\"LinearScale\"}},\"id\":\"1245\",\"subtype\":\"Figure\",\"type\":\"Plot\"},{\"attributes\":{},\"id\":\"1270\",\"type\":\"ResetTool\"},{\"attributes\":{\"data_source\":{\"id\":\"1244\",\"type\":\"ColumnDataSource\"},\"glyph\":{\"id\":\"1285\",\"type\":\"Line\"},\"hover_glyph\":null,\"muted_glyph\":null,\"nonselection_glyph\":{\"id\":\"1286\",\"type\":\"Line\"},\"selection_glyph\":null,\"view\":{\"id\":\"1288\",\"type\":\"CDSView\"}},\"id\":\"1287\",\"type\":\"GlyphRenderer\"},{\"attributes\":{\"data_source\":{\"id\":\"1244\",\"type\":\"ColumnDataSource\"},\"glyph\":{\"id\":\"1280\",\"type\":\"Line\"},\"hover_glyph\":null,\"muted_glyph\":null,\"nonselection_glyph\":{\"id\":\"1281\",\"type\":\"Line\"},\"selection_glyph\":null,\"view\":{\"id\":\"1283\",\"type\":\"CDSView\"}},\"id\":\"1282\",\"type\":\"GlyphRenderer\"},{\"attributes\":{\"line_color\":\"#fb8072\",\"line_dash\":[6],\"line_width\":2,\"x\":{\"field\":\"x\"},\"y\":{\"field\":\"y\"}},\"id\":\"1280\",\"type\":\"Line\"},{\"attributes\":{},\"id\":\"1254\",\"type\":\"LinearScale\"},{\"attributes\":{},\"id\":\"1266\",\"type\":\"PanTool\"},{\"attributes\":{\"items\":[{\"id\":\"1298\",\"type\":\"LegendItem\"}],\"location\":\"bottom_right\"},\"id\":\"1297\",\"type\":\"Legend\"},{\"attributes\":{\"line_alpha\":0.1,\"line_color\":\"#1f77b4\",\"line_width\":2,\"x\":{\"field\":\"fpr\"},\"y\":{\"field\":\"tpr\"}},\"id\":\"1286\",\"type\":\"Line\"},{\"attributes\":{\"callback\":null},\"id\":\"1250\",\"type\":\"DataRange1d\"},{\"attributes\":{\"callback\":null,\"data\":{\"fpr\":{\"__ndarray__\":\"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\",\"dtype\":\"float64\",\"shape\":[286]},\"tpr\":{\"__ndarray__\":\"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\",\"dtype\":\"float64\",\"shape\":[286]},\"x\":{\"__ndarray__\":\"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\",\"dtype\":\"float64\",\"shape\":[286]},\"y\":{\"__ndarray__\":\"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\",\"dtype\":\"float64\",\"shape\":[286]}},\"selected\":{\"id\":\"1296\",\"type\":\"Selection\"},\"selection_policy\":{\"id\":\"1295\",\"type\":\"UnionRenderers\"}},\"id\":\"1244\",\"type\":\"ColumnDataSource\"},{\"attributes\":{\"bottom_units\":\"screen\",\"fill_alpha\":{\"value\":0.5},\"fill_color\":{\"value\":\"lightgrey\"},\"left_units\":\"screen\",\"level\":\"overlay\",\"line_alpha\":{\"value\":1.0},\"line_color\":{\"value\":\"black\"},\"line_dash\":[4,4],\"line_width\":{\"value\":2},\"render_mode\":\"css\",\"right_units\":\"screen\",\"top_units\":\"screen\"},\"id\":\"1294\",\"type\":\"BoxAnnotation\"},{\"attributes\":{},\"id\":\"1290\",\"type\":\"BasicTickFormatter\"},{\"attributes\":{\"overlay\":{\"id\":\"1294\",\"type\":\"BoxAnnotation\"}},\"id\":\"1268\",\"type\":\"BoxZoomTool\"},{\"attributes\":{},\"id\":\"1292\",\"type\":\"BasicTickFormatter\"},{\"attributes\":{},\"id\":\"1267\",\"type\":\"WheelZoomTool\"},{\"attributes\":{},\"id\":\"1269\",\"type\":\"SaveTool\"},{\"attributes\":{\"axis_label\":\"True Positive Rate\",\"axis_label_text_font_size\":{\"value\":\"14px\"},\"axis_line_color\":{\"value\":null},\"formatter\":{\"id\":\"1290\",\"type\":\"BasicTickFormatter\"},\"major_label_text_font_size\":{\"value\":\"12px\"},\"major_tick_line_color\":{\"value\":null},\"minor_tick_line_color\":{\"value\":null},\"ticker\":{\"id\":\"1262\",\"type\":\"BasicTicker\"}},\"id\":\"1261\",\"type\":\"LinearAxis\"},{\"attributes\":{\"callback\":null,\"mode\":\"vline\",\"renderers\":[{\"id\":\"1287\",\"type\":\"GlyphRenderer\"}],\"tooltips\":[[\"False-Pos\",\"@fpr{00.0%}\"],[\"True-Pos\",\"@tpr{00.0%}\"]]},\"id\":\"1299\",\"type\":\"HoverTool\"},{\"attributes\":{\"axis_label\":\"False Positive Rate\",\"axis_label_text_font_size\":{\"value\":\"14px\"},\"formatter\":{\"id\":\"1292\",\"type\":\"BasicTickFormatter\"},\"major_label_text_font_size\":{\"value\":\"12px\"},\"minor_tick_line_color\":{\"value\":null},\"ticker\":{\"id\":\"1257\",\"type\":\"BasicTicker\"}},\"id\":\"1256\",\"type\":\"LinearAxis\"},{\"attributes\":{\"align\":\"center\",\"text\":\"Receiver Operating Characteristic\",\"text_font_size\":{\"value\":\"18px\"}},\"id\":\"1246\",\"type\":\"Title\"},{\"attributes\":{\"callback\":null},\"id\":\"1248\",\"type\":\"DataRange1d\"},{\"attributes\":{\"line_color\":\"#80b1d3\",\"line_width\":2,\"x\":{\"field\":\"fpr\"},\"y\":{\"field\":\"tpr\"}},\"id\":\"1285\",\"type\":\"Line\"},{\"attributes\":{},\"id\":\"1295\",\"type\":\"UnionRenderers\"},{\"attributes\":{},\"id\":\"1271\",\"type\":\"HelpTool\"},{\"attributes\":{},\"id\":\"1257\",\"type\":\"BasicTicker\"},{\"attributes\":{\"grid_line_color\":null,\"ticker\":{\"id\":\"1257\",\"type\":\"BasicTicker\"}},\"id\":\"1260\",\"type\":\"Grid\"},{\"attributes\":{},\"id\":\"1252\",\"type\":\"LinearScale\"},{\"attributes\":{},\"id\":\"1262\",\"type\":\"BasicTicker\"},{\"attributes\":{\"source\":{\"id\":\"1244\",\"type\":\"ColumnDataSource\"}},\"id\":\"1288\",\"type\":\"CDSView\"},{\"attributes\":{\"label\":{\"value\":\"AUC = 0.9668\"},\"renderers\":[{\"id\":\"1287\",\"type\":\"GlyphRenderer\"}]},\"id\":\"1298\",\"type\":\"LegendItem\"},{\"attributes\":{},\"id\":\"1296\",\"type\":\"Selection\"},{\"attributes\":{\"dimension\":1,\"grid_line_color\":null,\"ticker\":{\"id\":\"1262\",\"type\":\"BasicTicker\"}},\"id\":\"1265\",\"type\":\"Grid\"},{\"attributes\":{\"source\":{\"id\":\"1244\",\"type\":\"ColumnDataSource\"}},\"id\":\"1283\",\"type\":\"CDSView\"},{\"attributes\":{\"active_drag\":\"auto\",\"active_inspect\":\"auto\",\"active_multi\":null,\"active_scroll\":\"auto\",\"active_tap\":\"auto\",\"tools\":[{\"id\":\"1266\",\"type\":\"PanTool\"},{\"id\":\"1267\",\"type\":\"WheelZoomTool\"},{\"id\":\"1268\",\"type\":\"BoxZoomTool\"},{\"id\":\"1269\",\"type\":\"SaveTool\"},{\"id\":\"1270\",\"type\":\"ResetTool\"},{\"id\":\"1271\",\"type\":\"HelpTool\"},{\"id\":\"1299\",\"type\":\"HoverTool\"}]},\"id\":\"1272\",\"type\":\"Toolbar\"},{\"attributes\":{\"line_alpha\":0.1,\"line_color\":\"#1f77b4\",\"line_dash\":[6],\"line_width\":2,\"x\":{\"field\":\"x\"},\"y\":{\"field\":\"y\"}},\"id\":\"1281\",\"type\":\"Line\"}],\"root_ids\":[\"1245\"]},\"title\":\"Bokeh Application\",\"version\":\"1.3.0\"}};\n",
       "  var render_items = [{\"docid\":\"f3561b7c-f7b9-4357-a573-c883e54d5bd5\",\"roots\":{\"1245\":\"134cb4cd-818d-4076-80cd-6e0cc6ca99d8\"}}];\n",
       "  root.Bokeh.embed.embed_items_notebook(docs_json, render_items);\n",
       "\n",
       "  }\n",
       "  if (root.Bokeh !== undefined) {\n",
       "    embed_document(root);\n",
       "  } else {\n",
       "    var attempts = 0;\n",
       "    var timer = setInterval(function(root) {\n",
       "      if (root.Bokeh !== undefined) {\n",
       "        embed_document(root);\n",
       "        clearInterval(timer);\n",
       "      }\n",
       "      attempts++;\n",
       "      if (attempts > 100) {\n",
       "        console.log(\"Bokeh: ERROR: Unable to run BokehJS code because BokehJS library is missing\");\n",
       "        clearInterval(timer);\n",
       "      }\n",
       "    }, 10, root)\n",
       "  }\n",
       "})(window);"
      ],
      "application/vnd.bokehjs_exec.v0+json": ""
     },
     "metadata": {
      "application/vnd.bokehjs_exec.v0+json": {
       "id": "1245"
      }
     },
     "output_type": "display_data"
    }
   ],
   "source": [
    "fpr, tpr, thresholds = roc_curve(error_df.true, error_df.error)\n",
    "roc_auc = auc(fpr, tpr)\n",
    "\n",
    "source = ColumnDataSource(data=dict(\n",
    "    fpr = fpr,\n",
    "    tpr = tpr,\n",
    "    x = np.linspace(0,1,len(fpr)),\n",
    "    y = np.linspace(0,1,len(fpr))\n",
    "))\n",
    "\n",
    "p = figure(plot_height = 500, plot_width = 500,\n",
    "           toolbar_location = None, \n",
    "           title = \"Receiver Operating Characteristic\")\n",
    "\n",
    "j = p.line(x = \"x\", y = \"y\", \n",
    "           color=Set3_12[3], \n",
    "           line_width = 2, \n",
    "           line_dash = 'dashed', \n",
    "           source=source)\n",
    "\n",
    "k = p.line(x = \"fpr\", y = \"tpr\", \n",
    "           color=Set3_12[4], \n",
    "           line_width = 2, \n",
    "           legend = f'AUC = {roc_auc:0.4f}',\n",
    "           source=source)\n",
    "\n",
    "tips= [\n",
    "    (\"False-Pos\", \"@fpr{00.0%}\"),\n",
    "    (\"True-Pos\", \"@tpr{00.0%}\"),\n",
    "    ]\n",
    "p.add_tools(HoverTool(tooltips=tips, renderers=[k], mode='vline'))\n",
    "\n",
    "p = format_plot(p, 'False Positive Rate', 'True Positive Rate')\n",
    "p.legend.location = 'bottom_right'\n",
    "\n",
    "show(p);"
   ]
  },
  {
   "cell_type": "markdown",
   "metadata": {
    "_cell_guid": "6ec156e2-540b-4538-8176-ab08730a739c",
    "_uuid": "cb9083c1461c7f66ff87cfba48bc589f79ded88d"
   },
   "source": [
    "### Model Perfomance\n",
    "\n",
    "ROC AUC plots the False Positive Rate against the True Positive rate. The dashed red line represents a random guess of a 50/50 chance of predicting the correct outcome. Ideally the ROC line would fit perfectly in the upper left hand corner which would represent a perfect model. While the ROC AUC is generally a good thing to use to check model performance, it only looks at 2 of the possible 4 outcomes of binary classification. False Negatives and True negatives are not directly observed in this plot. To get the rest of the story it is necessary to look at the confusion matrix. \n",
    "\n",
    "When performing binary classification there are 4 types of outcomes:\n",
    "\n",
    "![confusion_matrix_1.png](https://rasbt.github.io/mlxtend/user_guide/evaluate/confusion_matrix_files/confusion_matrix_1.png)\n",
    "\n",
    "In the case of this dataset:\n",
    "* ***True Positive:*** The number of normal transactions did we correctly predict as normal\n",
    "* ***False Negatives:*** The number of normal transactions that the model incorrectly classifies as fraud\n",
    "* ***False Positives:*** The number of fraudulent transactions the model incorrectly classifies as normal\n",
    "* ***True Negatives:*** The number of fraudlent transactions the model accurately classifies as fraud\n",
    "\n",
    "Since our predictions are based on the error between the original and predicted values of the input, it is necessary to find a cut-off point in the error where anything above the threshold is considered fraud, and anything below is considered to be a normal transaction. To start I decided to set the threshold as the sum of the mean and standard deviation of the error of the normal transactions."
   ]
  },
  {
   "cell_type": "code",
   "execution_count": 32,
   "metadata": {
    "_cell_guid": "29e00b5b-435a-455a-9881-77f73e81c8ee",
    "_uuid": "3b6fd60fa1b4d9209853cec5853c2154203ecc21"
   },
   "outputs": [
    {
     "name": "stdout",
     "output_type": "stream",
     "text": [
      "Threshold: 1.690\n"
     ]
    }
   ],
   "source": [
    "temp_df = error_df[error_df['true'] == 0]\n",
    "threshold = temp_df['error'].mean() + temp_df['error'].std()\n",
    "print(f'Threshold: {threshold:.3f}')"
   ]
  },
  {
   "cell_type": "code",
   "execution_count": 33,
   "metadata": {
    "_cell_guid": "dbcb7fce-ebee-46ab-8a18-1d7a054f20e7",
    "_uuid": "3759f05c62db00f80ff771c40ab15f498e3f2ef0"
   },
   "outputs": [
    {
     "name": "stdout",
     "output_type": "stream",
     "text": [
      "              precision    recall  f1-score   support\n",
      "\n",
      "           0       1.00      0.99      0.99     56864\n",
      "           1       0.10      0.84      0.18        98\n",
      "\n",
      "    accuracy                           0.99     56962\n",
      "   macro avg       0.55      0.91      0.58     56962\n",
      "weighted avg       1.00      0.99      0.99     56962\n",
      "\n"
     ]
    }
   ],
   "source": [
    "y_pred = [1 if e > threshold else 0 for e in error_df.error.values]\n",
    "print(classification_report(error_df.true.values,y_pred))"
   ]
  },
  {
   "cell_type": "markdown",
   "metadata": {
    "_cell_guid": "9acbc23c-0f97-490d-92b4-a6ce269689d9",
    "_uuid": "2f19cf111af255816b9ea4a4fe45ed61ab60f5c1"
   },
   "source": [
    "Above is the classification report, but I found these metrics to be a bit deceiving and hard to conceptualize. I found that in the case of this unbalanced dataset it is easier to understand by looking at the actual values for number of fraudulent transactions missed as well as the number of normal transactions that were misclassified in the confusion matrix."
   ]
  },
  {
   "cell_type": "code",
   "execution_count": 34,
   "metadata": {
    "_cell_guid": "f614343d-d849-48e9-b12c-8065904e1689",
    "_uuid": "3a2f46d046a4a5b6960269a54270ec7c58c2fbf8"
   },
   "outputs": [
    {
     "data": {
      "image/png": "[encoded data removed]",
      "text/plain": [
       "<Figure size 720x720 with 2 Axes>"
      ]
     },
     "metadata": {},
     "output_type": "display_data"
    }
   ],
   "source": [
    "conf_matrix = confusion_matrix(error_df.true, y_pred)\n",
    "\n",
    "sns.set(font_scale = 1.2)\n",
    "plt.figure(figsize=(10, 10))\n",
    "sns.heatmap(conf_matrix, xticklabels=['Not Fraud','Fraud'], yticklabels=['Not Fraud','Fraud'], annot=True, fmt=\"d\");\n",
    "plt.title(\"Confusion matrix\")\n",
    "plt.ylabel('True class')\n",
    "plt.xlabel('Predicted class')\n",
    "plt.show()"
   ]
  },
  {
   "cell_type": "markdown",
   "metadata": {
    "_cell_guid": "f8d28062-7024-43f3-86ca-acd434a41492",
    "_uuid": "205e3ae4b10ab8e0266cc0d4c453a3a312be9270"
   },
   "source": [
    "At first look, the model seems to catch all but about 15% of the fraudulent transactions, but at that threshold the model incorrectly identifies around\n",
    "4000 normal transactions as fraud (False Negatives).\n",
    "\n",
    "This is where the benefit of having a threshold pays off. It allows the flexibility of determining the amount of normal transactions you are willing to accept in order to catch the targeted amount of Fraud. The False Negatives and False Positives exhibit inverse behavior; as the amount of missed fraudulent transactions decreases, the normal transactions that are incorrectly predicted as fraud increases.\n",
    "\n",
    "Next I iterated through a range of thresholds and plotted the confusion matrix at each threshold to get a better idea of what the decision space looks like."
   ]
  },
  {
   "cell_type": "code",
   "execution_count": 35,
   "metadata": {
    "_cell_guid": "67a2b98a-0f1f-4992-a2e7-20e568caf58c",
    "_uuid": "371c9dc7e22d39c8c842d0eed5569a550e65f518"
   },
   "outputs": [
    {
     "data": {
      "image/png": "[encoded data removed]",
      "text/plain": [
       "<Figure size 864x864 with 18 Axes>"
      ]
     },
     "metadata": {},
     "output_type": "display_data"
    }
   ],
   "source": [
    "plt.figure(figsize=(12, 12))\n",
    "m = []\n",
    "for thresh in np.linspace(0.2,2,9):\n",
    "    y_pred = [1 if e > thresh else 0 for e in error_df.error.values]\n",
    "    conf_matrix = confusion_matrix(error_df.true, y_pred)\n",
    "    m.append((conf_matrix,thresh))\n",
    "    \n",
    "count = 0\n",
    "for i in range(3):\n",
    "    for j in range(3):\n",
    "        plt.subplot2grid((3, 3), (i, j))\n",
    "        sns.heatmap(m[count][0], xticklabels=['Not Fraud','Fraud'], yticklabels=['Not Fraud','Fraud'], annot=True, fmt=\"d\");\n",
    "        plt.title(f\"Threshold - {m[count][1]:.3f}\")\n",
    "        plt.ylabel('True class')\n",
    "        plt.xlabel('Predicted class')\n",
    "        plt.tight_layout()\n",
    "        count += 1\n",
    "plt.show()"
   ]
  },
  {
   "cell_type": "code",
   "execution_count": 36,
   "metadata": {
    "_cell_guid": "28480e3a-9a00-4433-b239-8b883e5c80c5",
    "_uuid": "22563eef9e189a8db4f846a1d1001be47fb62c3e"
   },
   "outputs": [
    {
     "name": "stdout",
     "output_type": "stream",
     "text": [
      "        fp  fn  threshold\n",
      "2    34687   2   0.228141\n",
      "11   17884   3   0.354774\n",
      "20    9757   4   0.481407\n",
      "22    8664   6   0.509548\n",
      "33    4678   7   0.664322\n",
      "38    3662   8   0.734673\n",
      "41    3217   9   0.776884\n",
      "63    1561  10   1.086432\n",
      "66    1469  11   1.128643\n",
      "67    1432  12   1.142714\n",
      "73    1272  13   1.227136\n",
      "97     858  14   1.564824\n",
      "101    809  15   1.621106\n",
      "125    599  16   1.958794\n",
      "194    350  17   2.929648\n",
      "199    334  18   3.000000\n"
     ]
    }
   ],
   "source": [
    "thr = []\n",
    "tp = []\n",
    "fn = []\n",
    "fp = []\n",
    "tn = []\n",
    "for thresh in np.linspace(0.2,3,200):\n",
    "    y_pred = [1 if e > thresh else 0 for e in error_df.error.values]\n",
    "    conf = confusion_matrix(error_df.true, y_pred)\n",
    "    tp.append(conf[0][0])\n",
    "    fp.append(conf[0][1])\n",
    "    fn.append(conf[1][0])\n",
    "    tn.append(conf[1][1])\n",
    "    thr.append(thresh)\n",
    "\n",
    "conf_df = pd.DataFrame(data = {'fp':fp,'fn':fn,'threshold':thr})\n",
    "cdf = conf_df.drop_duplicates(subset='fn',keep='last')\n",
    "print(cdf)"
   ]
  },
  {
   "cell_type": "code",
   "execution_count": 37,
   "metadata": {
    "_cell_guid": "67c11b8b-b30b-46d3-b624-b90471e10d3b",
    "_uuid": "c1d303ebf1a7aa714f8b8272d00a9ab4df6bc3f1"
   },
   "outputs": [
    {
     "data": {
      "text/html": [
       "\n",
       "\n",
       "\n",
       "\n",
       "\n",
       "\n",
       "  <div class=\"bk-root\" id=\"2afe7027-8c31-4b0e-9ebf-45c2120d7768\" data-root-id=\"1375\"></div>\n"
      ]
     },
     "metadata": {},
     "output_type": "display_data"
    },
    {
     "data": {
      "application/javascript": [
       "(function(root) {\n",
       "  function embed_document(root) {\n",
       "    \n",
       "  var docs_json = {\"24a25a73-23b4-4212-9f82-3bb1308a19ad\":{\"roots\":{\"references\":[{\"attributes\":{\"background_fill_color\":{\"value\":\"whitesmoke\"},\"below\":[{\"id\":\"1386\",\"type\":\"CategoricalAxis\"}],\"center\":[{\"id\":\"1389\",\"type\":\"Grid\"},{\"id\":\"1394\",\"type\":\"Grid\"}],\"left\":[{\"id\":\"1390\",\"type\":\"LinearAxis\"}],\"plot_width\":800,\"renderers\":[{\"id\":\"1411\",\"type\":\"GlyphRenderer\"}],\"title\":{\"id\":\"1376\",\"type\":\"Title\"},\"toolbar\":{\"id\":\"1401\",\"type\":\"Toolbar\"},\"toolbar_location\":null,\"x_range\":{\"id\":\"1378\",\"type\":\"FactorRange\"},\"x_scale\":{\"id\":\"1382\",\"type\":\"CategoricalScale\"},\"y_range\":{\"id\":\"1380\",\"type\":\"DataRange1d\"},\"y_scale\":{\"id\":\"1384\",\"type\":\"LinearScale\"}},\"id\":\"1375\",\"subtype\":\"Figure\",\"type\":\"Plot\"},{\"attributes\":{},\"id\":\"1441\",\"type\":\"CategoricalTickFormatter\"},{\"attributes\":{},\"id\":\"1439\",\"type\":\"BasicTickFormatter\"},{\"attributes\":{},\"id\":\"1398\",\"type\":\"SaveTool\"},{\"attributes\":{\"overlay\":{\"id\":\"1443\",\"type\":\"BoxAnnotation\"}},\"id\":\"1397\",\"type\":\"BoxZoomTool\"},{\"attributes\":{},\"id\":\"1399\",\"type\":\"ResetTool\"},{\"attributes\":{\"fill_color\":{\"value\":\"#fb8072\"},\"line_color\":{\"value\":\"#fb8072\"},\"top\":{\"field\":\"fp\"},\"width\":{\"value\":0.9},\"x\":{\"field\":\"fn\"}},\"id\":\"1409\",\"type\":\"VBar\"},{\"attributes\":{\"callback\":null,\"data\":{\"fn\":[\"2\",\"3\",\"4\",\"6\",\"7\",\"8\",\"9\",\"10\",\"11\",\"12\",\"13\",\"14\",\"15\",\"16\",\"17\",\"18\"],\"fp\":[34687,17884,9757,8664,4678,3662,3217,1561,1469,1432,1272,858,809,599,350,334]},\"selected\":{\"id\":\"1445\",\"type\":\"Selection\"},\"selection_policy\":{\"id\":\"1444\",\"type\":\"UnionRenderers\"}},\"id\":\"1374\",\"type\":\"ColumnDataSource\"},{\"attributes\":{\"axis_label\":\"False Positive\",\"axis_label_text_font_size\":{\"value\":\"14px\"},\"axis_line_color\":{\"value\":null},\"formatter\":{\"id\":\"1439\",\"type\":\"BasicTickFormatter\"},\"major_label_text_font_size\":{\"value\":\"12px\"},\"major_tick_line_color\":{\"value\":null},\"minor_tick_line_color\":{\"value\":null},\"ticker\":{\"id\":\"1391\",\"type\":\"BasicTicker\"}},\"id\":\"1390\",\"type\":\"LinearAxis\"},{\"attributes\":{},\"id\":\"1445\",\"type\":\"Selection\"},{\"attributes\":{\"source\":{\"id\":\"1374\",\"type\":\"ColumnDataSource\"}},\"id\":\"1412\",\"type\":\"CDSView\"},{\"attributes\":{},\"id\":\"1382\",\"type\":\"CategoricalScale\"},{\"attributes\":{\"callback\":null,\"factors\":[\"2\",\"3\",\"4\",\"6\",\"7\",\"8\",\"9\",\"10\",\"11\",\"12\",\"13\",\"14\",\"15\",\"16\",\"17\",\"18\"]},\"id\":\"1378\",\"type\":\"FactorRange\"},{\"attributes\":{\"axis_label\":\"False Negatives\",\"axis_label_text_font_size\":{\"value\":\"14px\"},\"formatter\":{\"id\":\"1441\",\"type\":\"CategoricalTickFormatter\"},\"major_label_text_font_size\":{\"value\":\"12px\"},\"minor_tick_line_color\":{\"value\":null},\"ticker\":{\"id\":\"1387\",\"type\":\"CategoricalTicker\"}},\"id\":\"1386\",\"type\":\"CategoricalAxis\"},{\"attributes\":{\"callback\":null},\"id\":\"1380\",\"type\":\"DataRange1d\"},{\"attributes\":{\"align\":\"center\",\"text\":\"False Negative vs False Positive\",\"text_font_size\":{\"value\":\"18px\"}},\"id\":\"1376\",\"type\":\"Title\"},{\"attributes\":{\"data_source\":{\"id\":\"1374\",\"type\":\"ColumnDataSource\"},\"glyph\":{\"id\":\"1409\",\"type\":\"VBar\"},\"hover_glyph\":null,\"muted_glyph\":null,\"nonselection_glyph\":{\"id\":\"1410\",\"type\":\"VBar\"},\"selection_glyph\":null,\"view\":{\"id\":\"1412\",\"type\":\"CDSView\"}},\"id\":\"1411\",\"type\":\"GlyphRenderer\"},{\"attributes\":{},\"id\":\"1384\",\"type\":\"LinearScale\"},{\"attributes\":{},\"id\":\"1444\",\"type\":\"UnionRenderers\"},{\"attributes\":{\"fill_alpha\":{\"value\":0.1},\"fill_color\":{\"value\":\"#1f77b4\"},\"line_alpha\":{\"value\":0.1},\"line_color\":{\"value\":\"#1f77b4\"},\"top\":{\"field\":\"fp\"},\"width\":{\"value\":0.9},\"x\":{\"field\":\"fn\"}},\"id\":\"1410\",\"type\":\"VBar\"},{\"attributes\":{\"grid_line_color\":null,\"ticker\":{\"id\":\"1387\",\"type\":\"CategoricalTicker\"}},\"id\":\"1389\",\"type\":\"Grid\"},{\"attributes\":{\"active_drag\":\"auto\",\"active_inspect\":\"auto\",\"active_multi\":null,\"active_scroll\":\"auto\",\"active_tap\":\"auto\",\"tools\":[{\"id\":\"1395\",\"type\":\"PanTool\"},{\"id\":\"1396\",\"type\":\"WheelZoomTool\"},{\"id\":\"1397\",\"type\":\"BoxZoomTool\"},{\"id\":\"1398\",\"type\":\"SaveTool\"},{\"id\":\"1399\",\"type\":\"ResetTool\"},{\"id\":\"1400\",\"type\":\"HelpTool\"}]},\"id\":\"1401\",\"type\":\"Toolbar\"},{\"attributes\":{\"bottom_units\":\"screen\",\"fill_alpha\":{\"value\":0.5},\"fill_color\":{\"value\":\"lightgrey\"},\"left_units\":\"screen\",\"level\":\"overlay\",\"line_alpha\":{\"value\":1.0},\"line_color\":{\"value\":\"black\"},\"line_dash\":[4,4],\"line_width\":{\"value\":2},\"render_mode\":\"css\",\"right_units\":\"screen\",\"top_units\":\"screen\"},\"id\":\"1443\",\"type\":\"BoxAnnotation\"},{\"attributes\":{\"dimension\":1,\"grid_line_color\":null,\"ticker\":{\"id\":\"1391\",\"type\":\"BasicTicker\"}},\"id\":\"1394\",\"type\":\"Grid\"},{\"attributes\":{},\"id\":\"1396\",\"type\":\"WheelZoomTool\"},{\"attributes\":{},\"id\":\"1391\",\"type\":\"BasicTicker\"},{\"attributes\":{},\"id\":\"1387\",\"type\":\"CategoricalTicker\"},{\"attributes\":{},\"id\":\"1395\",\"type\":\"PanTool\"},{\"attributes\":{},\"id\":\"1400\",\"type\":\"HelpTool\"}],\"root_ids\":[\"1375\"]},\"title\":\"Bokeh Application\",\"version\":\"1.3.0\"}};\n",
       "  var render_items = [{\"docid\":\"24a25a73-23b4-4212-9f82-3bb1308a19ad\",\"roots\":{\"1375\":\"2afe7027-8c31-4b0e-9ebf-45c2120d7768\"}}];\n",
       "  root.Bokeh.embed.embed_items_notebook(docs_json, render_items);\n",
       "\n",
       "  }\n",
       "  if (root.Bokeh !== undefined) {\n",
       "    embed_document(root);\n",
       "  } else {\n",
       "    var attempts = 0;\n",
       "    var timer = setInterval(function(root) {\n",
       "      if (root.Bokeh !== undefined) {\n",
       "        embed_document(root);\n",
       "        clearInterval(timer);\n",
       "      }\n",
       "      attempts++;\n",
       "      if (attempts > 100) {\n",
       "        console.log(\"Bokeh: ERROR: Unable to run BokehJS code because BokehJS library is missing\");\n",
       "        clearInterval(timer);\n",
       "      }\n",
       "    }, 10, root)\n",
       "  }\n",
       "})(window);"
      ],
      "application/vnd.bokehjs_exec.v0+json": ""
     },
     "metadata": {
      "application/vnd.bokehjs_exec.v0+json": {
       "id": "1375"
      }
     },
     "output_type": "display_data"
    }
   ],
   "source": [
    "xx = [str(x) for x in cdf['fn'].values]\n",
    "source = ColumnDataSource(data=dict(\n",
    "    fn = xx,\n",
    "    fp = cdf['fp'].values,\n",
    "))\n",
    "\n",
    "p = figure(plot_width = 800,\n",
    "           toolbar_location = None, x_range = xx,\n",
    "           title = \"False Negative vs False Positive\")\n",
    "\n",
    "p.vbar(x = \"fn\", top = \"fp\", width = 0.9,\n",
    "           color=Set3_12[3],  \n",
    "           source=source)\n",
    "\n",
    "p = format_plot(p, 'False Negatives', 'False Positive')\n",
    "\n",
    "show(p);"
   ]
  },
  {
   "cell_type": "markdown",
   "metadata": {
    "_cell_guid": "2ff84a71-a7f8-447b-8918-a878ec753199",
    "_uuid": "f005b1240ab6c001abb4613f74224b0c47337794"
   },
   "source": [
    "In the plot above you can see the trade-space for a given reconstruction error threshold. There is a large dropoff after 2 False Negatives. Ideally this plot would be in percentages to show overall model performance, since these numbers would change depending on your test set size. However actual number of fraudulent transactions is a bit more intuitive.\n",
    "\n",
    "### Conclusion and Further Work\n",
    "\n",
    "Since the data we were given represents the principal components, it is difficult to fully understand the value of each of the model inputs. In this notebook I did not attempt to do any feature engineering or general dimensional reduction (although the autoencoder does) to try to improve the model.\n",
    "\n",
    "In general the model performs well, but there is still a small number of fraudulent transactions that can't be cleanly separated from normal transactions. The model provides a decision space to do tradeoff analysis and determine the best threshold given how much a fraudulent transaction costs the business vs how much it costs to incorrectly label normal transactions (which is difficult to quantify).\n",
    "\n",
    "Next, I would like to look into ensembling this with other models as well as taking the weights of the pre-trained autoencoder and using additonal layers to perform the final binary classification.\n",
    "\n",
    "Thanks for reading."
   ]
  },
  {
   "cell_type": "code",
   "execution_count": null,
   "metadata": {},
   "outputs": [],
   "source": []
  }
 ],
 "metadata": {
  "kernelspec": {
   "display_name": "Python 3",
   "language": "python",
   "name": "python3"
  },
  "language_info": {
   "codemirror_mode": {
    "name": "ipython",
    "version": 3
   },
   "file_extension": ".py",
   "mimetype": "text/x-python",
   "name": "python",
   "nbconvert_exporter": "python",
   "pygments_lexer": "ipython3",
   "version": "3.7.3"
  },
  "varInspector": {
   "cols": {
    "lenName": 16,
    "lenType": 16,
    "lenVar": 40
   },
   "kernels_config": {
    "python": {
     "delete_cmd_postfix": "",
     "delete_cmd_prefix": "del ",
     "library": "var_list.py",
     "varRefreshCmd": "print(var_dic_list())"
    },
    "r": {
     "delete_cmd_postfix": ") ",
     "delete_cmd_prefix": "rm(",
     "library": "var_list.r",
     "varRefreshCmd": "cat(var_dic_list()) "
    }
   },
   "types_to_exclude": [
    "module",
    "function",
    "builtin_function_or_method",
    "instance",
    "_Feature"
   ],
   "window_display": false
  }
 },
 "nbformat": 4,
 "nbformat_minor": 1
}
